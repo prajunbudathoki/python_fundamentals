{
 "cells": [
  {
   "cell_type": "markdown",
   "id": "43119292-9c68-4dfe-8161-148aa9c45491",
   "metadata": {},
   "source": [
    "# Built-in functions"
   ]
  },
  {
   "cell_type": "markdown",
   "id": "d0c29ad9-65cf-4d91-adcb-8b33b16683e8",
   "metadata": {},
   "source": [
    "#### divmod()\n",
    "    the divmod() method takes  two numbers as arguments and returns a tuple containing the quotient and the remainder when performing integer division."
   ]
  },
  {
   "cell_type": "code",
   "execution_count": 2,
   "id": "8d29cf8b-74b4-4381-aa7a-f6536d1e20da",
   "metadata": {},
   "outputs": [
    {
     "name": "stdout",
     "output_type": "stream",
     "text": [
      "(2, 0)\n"
     ]
    }
   ],
   "source": [
    "print(divmod(10,5))"
   ]
  },
  {
   "cell_type": "markdown",
   "id": "fea71226-5a87-44ad-8a10-575696606e7a",
   "metadata": {},
   "source": [
    "#### enumerate()\n",
    "    - The enumerate() method adds counter to an iterable and returns it\n",
    "    : enumerate(iterable, start=0)"
   ]
  },
  {
   "cell_type": "code",
   "execution_count": 6,
   "id": "ee3b3b05-f44c-4504-98e9-1070aaf6a518",
   "metadata": {},
   "outputs": [
    {
     "name": "stdout",
     "output_type": "stream",
     "text": [
      "Index 0 has value 1\n",
      "Index 1 has value 2\n",
      "Index 2 has value 3\n",
      "Index 3 has value 4\n",
      "Index 4 has value 5\n"
     ]
    }
   ],
   "source": [
    "numbers = [1,2,3,4,5]\n",
    "for i, num in enumerate(numbers,0):\n",
    "    print(f\"Index {i} has value {num}\")"
   ]
  },
  {
   "cell_type": "markdown",
   "id": "ca559dc2-1f19-4d17-905a-c372bf986cc9",
   "metadata": {},
   "source": [
    "#### filter()\n",
    "    The filter() method constructs an iterator from elements of an iterable for which a function returns true.\n",
    "    syntax: filter(function,iterable)"
   ]
  },
  {
   "cell_type": "code",
   "execution_count": 12,
   "id": "ee21503a-f163-442a-bc7e-348dd86a1468",
   "metadata": {},
   "outputs": [
    {
     "name": "stdout",
     "output_type": "stream",
     "text": [
      "[2, 4, 6, 8, 10]\n"
     ]
    }
   ],
   "source": [
    "# filtering even numbers\n",
    "def is_even(num):\n",
    "    return num%2 == 0\n",
    "\n",
    "num = [1,2,3,4,5,6,7,8,9,10]\n",
    "even_num = filter(is_even,num)\n",
    "print(list(even_num))"
   ]
  },
  {
   "cell_type": "code",
   "execution_count": 17,
   "id": "6e96967e-8548-4e7c-96b0-725d3193f2d8",
   "metadata": {},
   "outputs": [
    {
     "name": "stdout",
     "output_type": "stream",
     "text": [
      "[-10, -9, -8, -7, -6, -5, -4, -3, -2, -1, 0, 1, 2, 3, 4, 5, 6, 7, 8, 9]\n",
      "[1, 2, 3, 4, 5, 6, 7, 8, 9]\n"
     ]
    }
   ],
   "source": [
    "# filter out the positive numbers \n",
    "def get_positive_num(num):\n",
    "    return num > 0\n",
    "\n",
    "num = range(-10,10)\n",
    "print(list(num))\n",
    "\n",
    "result = filter(get_positive_num,num)\n",
    "print(list(result))"
   ]
  },
  {
   "cell_type": "markdown",
   "id": "b563d24f-b37b-4a3a-aec2-e23516e1c09f",
   "metadata": {},
   "source": [
    "#### isinstance()\n",
    "    The isinstance() function checks if the object (first argument) is an instance or subclass of classinfo class (second argument).\n",
    "     syntax: isinstance(object, classinfo)"
   ]
  },
  {
   "cell_type": "code",
   "execution_count": 18,
   "id": "cdd783ca-1746-4d37-9f4b-90412debaaa2",
   "metadata": {},
   "outputs": [
    {
     "name": "stdout",
     "output_type": "stream",
     "text": [
      "True\n",
      "False\n",
      "True\n"
     ]
    }
   ],
   "source": [
    "list_num = [1,2,3,4]\n",
    "print(isinstance(list_num,list))\n",
    "\n",
    "t = (5,6,7,8)\n",
    "print(isinstance(t,list))\n",
    "print(isinstance(t,tuple))"
   ]
  },
  {
   "cell_type": "markdown",
   "id": "08a9ce62-3ed6-4609-83c5-d99dda91aa53",
   "metadata": {},
   "source": [
    "#### map()\n",
    "    Map applies a function to all the items in an input_list\n",
    "    syntax: (map(function_to_apply, list_of_inputs))"
   ]
  },
  {
   "cell_type": "code",
   "execution_count": 22,
   "id": "95e85562-71fb-4311-a74e-a01220911271",
   "metadata": {},
   "outputs": [
    {
     "name": "stdout",
     "output_type": "stream",
     "text": [
      "[1, 4, 9, 16, 25]\n",
      "using list comprehensions: [1, 4, 9, 16, 25]\n"
     ]
    }
   ],
   "source": [
    "numbers = [1,2,3,4,5]\n",
    "\n",
    "squared = []\n",
    "for i in numbers:\n",
    "    squared.append(i**2)\n",
    "print(squared)\n",
    "\n",
    "# using list comprehensions\n",
    "squared_num = list(num**2 for num in numbers)\n",
    "print(f\"using list comprehensions: {squared_num}\")"
   ]
  },
  {
   "cell_type": "code",
   "execution_count": 23,
   "id": "3400818d-056f-463b-b0c6-9fdda46b3267",
   "metadata": {},
   "outputs": [
    {
     "name": "stdout",
     "output_type": "stream",
     "text": [
      "Using map function: [1, 4, 9, 16, 25]\n"
     ]
    }
   ],
   "source": [
    "def squared_num(num):\n",
    "    return num ** 2\n",
    "\n",
    "squared = list(map(squared_num,numbers))\n",
    "print(f'Using map function: {squared}')"
   ]
  },
  {
   "cell_type": "markdown",
   "id": "0dfbe7d0-9afb-4cc0-9ca4-e72e3a7606f9",
   "metadata": {},
   "source": [
    "#### reduce()\n",
    "    reduce() function is for performing some computation on a list and returning the resultt."
   ]
  },
  {
   "cell_type": "code",
   "execution_count": 24,
   "id": "653c5566-bb8d-4844-9431-a0529f78ab14",
   "metadata": {},
   "outputs": [
    {
     "name": "stdout",
     "output_type": "stream",
     "text": [
      "120\n"
     ]
    }
   ],
   "source": [
    "# finding product from the list\n",
    "product = 1\n",
    "lst = [1,2,3,4,5]\n",
    "\n",
    "for num in lst:\n",
    "    product *= num\n",
    "print(product)"
   ]
  },
  {
   "cell_type": "code",
   "execution_count": 27,
   "id": "a111847d-8684-4225-98ae-5b310bfd1194",
   "metadata": {},
   "outputs": [
    {
     "name": "stdout",
     "output_type": "stream",
     "text": [
      "120\n"
     ]
    }
   ],
   "source": [
    "from functools import reduce\n",
    "\n",
    "def multiply(a,b):\n",
    "    return a*b\n",
    "product = reduce(multiply,lst)\n",
    "print(product)"
   ]
  },
  {
   "cell_type": "markdown",
   "id": "28c217e5-e969-46f0-a887-1aa67c727abc",
   "metadata": {},
   "source": [
    "# User-defined functions\n",
    "\n",
    "#### Arbitary keyword arguments\n",
    "    kwargs allows to pass keyworded variable length of arguments to a function. we should use **kwargs if we want to handle named arguments in a function"
   ]
  },
  {
   "cell_type": "code",
   "execution_count": 28,
   "id": "233c40fc-dac5-4dfc-ad95-0ea1b1117ca2",
   "metadata": {},
   "outputs": [
    {
     "name": "stdout",
     "output_type": "stream",
     "text": [
      "Hello Ariana, Good Evening\n"
     ]
    }
   ],
   "source": [
    "def greet_message(**kwargs):\n",
    "    if kwargs:\n",
    "        print(f'Hello {kwargs['name']}, {kwargs['msg']}')\n",
    "greet_message(name=\"Ariana\",msg=\"Good Evening\")"
   ]
  },
  {
   "cell_type": "markdown",
   "id": "406541d7-90b5-4d86-a70d-1db47c5e7387",
   "metadata": {},
   "source": [
    "#### Arbitary Positional Arguments \n",
    "    refers to functions that can take an arbitrary number of arguments, \n",
    "    meaning the number of arguments is not fixed and can vary."
   ]
  },
  {
   "cell_type": "code",
   "execution_count": 31,
   "id": "b65b23af-630b-4f67-81d5-986681f39eab",
   "metadata": {},
   "outputs": [
    {
     "name": "stdout",
     "output_type": "stream",
     "text": [
      "6\n",
      "15\n"
     ]
    }
   ],
   "source": [
    "def sum_all(*args):\n",
    "    return sum(args)\n",
    "\n",
    "print(sum_all(1,2,3))\n",
    "print(sum_all(1,2,3,4,5))"
   ]
  },
  {
   "cell_type": "markdown",
   "id": "4c44da7f-e2e9-4b7d-ba04-463c4f9121fe",
   "metadata": {},
   "source": [
    "### Combining both args and kwargs"
   ]
  },
  {
   "cell_type": "code",
   "execution_count": 32,
   "id": "7b64439f-96bc-4118-9ba8-97ec47423f13",
   "metadata": {},
   "outputs": [
    {
     "name": "stdout",
     "output_type": "stream",
     "text": [
      "positional arguments:  (1, 2, 3)\n",
      "keyword arguments:  {'name': 'prajun', 'age': 21}\n"
     ]
    }
   ],
   "source": [
    "def mixed_function(*args,**kwargs):\n",
    "    print(\"positional arguments: \",args)\n",
    "    print(\"keyword arguments: \",kwargs)\n",
    "mixed_function(1,2,3,name=\"prajun\",age=21)"
   ]
  },
  {
   "cell_type": "code",
   "execution_count": null,
   "id": "cd04bd17-4c0f-425a-bfd7-fa9d0376f706",
   "metadata": {},
   "outputs": [],
   "source": []
  }
 ],
 "metadata": {
  "kernelspec": {
   "display_name": "Python 3 (ipykernel)",
   "language": "python",
   "name": "python3"
  },
  "language_info": {
   "codemirror_mode": {
    "name": "ipython",
    "version": 3
   },
   "file_extension": ".py",
   "mimetype": "text/x-python",
   "name": "python",
   "nbconvert_exporter": "python",
   "pygments_lexer": "ipython3",
   "version": "3.12.2"
  }
 },
 "nbformat": 4,
 "nbformat_minor": 5
}
