{
 "cells": [
  {
   "cell_type": "markdown",
   "id": "aaa98338-5633-47f3-9ec9-aa40cf18224b",
   "metadata": {},
   "source": [
    "# Annoymous / Lambda functions\n",
    "In Python, anonymous function is a function that is defined without a name()"
   ]
  },
  {
   "cell_type": "code",
   "execution_count": 1,
   "id": "e4a800a8-0ab4-4dd4-8d06-45e7c5a6de9d",
   "metadata": {},
   "outputs": [
    {
     "name": "stdout",
     "output_type": "stream",
     "text": [
      "100\n"
     ]
    }
   ],
   "source": [
    "square = lambda x: x**2\n",
    "print(square(10))"
   ]
  },
  {
   "cell_type": "code",
   "execution_count": 5,
   "id": "aac2f105-d67e-4e03-a3fb-b0ff25e59e5b",
   "metadata": {},
   "outputs": [
    {
     "name": "stdout",
     "output_type": "stream",
     "text": [
      "[4, 56, 8]\n"
     ]
    }
   ],
   "source": [
    "nums = [1,3,4,56,7,8]\n",
    "even_list = list(filter(lambda x: (x%2==0),nums))\n",
    "print(list(even_list))"
   ]
  },
  {
   "cell_type": "code",
   "execution_count": 7,
   "id": "6b60e83d-8f60-461f-80d9-46d6966a4d26",
   "metadata": {},
   "outputs": [
    {
     "name": "stdout",
     "output_type": "stream",
     "text": [
      "[1, 9, 16, 3136, 49, 64]\n"
     ]
    }
   ],
   "source": [
    "square = list(map(lambda x: (x**2),nums))\n",
    "print(square)"
   ]
  },
  {
   "cell_type": "code",
   "execution_count": null,
   "id": "0e8c7f2d-2308-421d-b407-775bc3e8e292",
   "metadata": {},
   "outputs": [],
   "source": []
  }
 ],
 "metadata": {
  "kernelspec": {
   "display_name": "Python 3 (ipykernel)",
   "language": "python",
   "name": "python3"
  },
  "language_info": {
   "codemirror_mode": {
    "name": "ipython",
    "version": 3
   },
   "file_extension": ".py",
   "mimetype": "text/x-python",
   "name": "python",
   "nbconvert_exporter": "python",
   "pygments_lexer": "ipython3",
   "version": "3.12.2"
  }
 },
 "nbformat": 4,
 "nbformat_minor": 5
}
