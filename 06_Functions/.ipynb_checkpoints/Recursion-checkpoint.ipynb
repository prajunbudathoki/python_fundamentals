{
 "cells": [
  {
   "cell_type": "markdown",
   "id": "32d0858b-caf9-4e15-ad40-79b61a7bb09d",
   "metadata": {},
   "source": [
    "# Recursion\n",
    "    Recursion in Python is a technique where a function calls itself in order to solve a problem.\n",
    "    It involves breaking down a problem into smaller, more manageable sub-problems of the same type"
   ]
  },
  {
   "cell_type": "markdown",
   "id": "950bf5d5-6387-459b-8194-122c3d042ad9",
   "metadata": {},
   "source": [
    "#### Advantages\n",
    "1. Recursive function makes the code look clean and elegant.\n",
    "2. A complex task can be broken down into smaller sub-problems using recursion.\n",
    "\n",
    "#### Disadvantages\n",
    "1. sometimes logic behind it is hard to follow\n",
    "2. recursive function are hard to debug"
   ]
  },
  {
   "cell_type": "code",
   "execution_count": 7,
   "id": "051b3127-fcfe-4df8-b474-2d0a84bad74e",
   "metadata": {},
   "outputs": [
    {
     "name": "stdout",
     "output_type": "stream",
     "text": [
      "Factorial of given num 7 is 5040\n"
     ]
    }
   ],
   "source": [
    "def factorial(n):\n",
    "    if n==0 or n==1:\n",
    "        return 1 \n",
    "    else:\n",
    "        return n*factorial(n-1)\n",
    "\n",
    "n = 7\n",
    "print(f'Factorial of given num {n} is {factorial(n)}')"
   ]
  },
  {
   "cell_type": "code",
   "execution_count": 8,
   "id": "2d0284e4-ea87-4561-8272-55e9897906f4",
   "metadata": {},
   "outputs": [
    {
     "name": "stdout",
     "output_type": "stream",
     "text": [
      "Fibonacci sequence of number 5 is 16\n"
     ]
    }
   ],
   "source": [
    "def fibonacci(num):\n",
    "    if num == 0:\n",
    "        return 0\n",
    "    elif num == 1:\n",
    "        return 1\n",
    "    else:\n",
    "        return fibonacci(num - 1) + fibonacci(num - 1)\n",
    "\n",
    "num = 5\n",
    "print(f'Fibonacci sequence of number {num} is {fibonacci(num)}')"
   ]
  },
  {
   "cell_type": "code",
   "execution_count": null,
   "id": "39282857-6bf9-4472-9e47-5b4ebc11442c",
   "metadata": {},
   "outputs": [],
   "source": []
  }
 ],
 "metadata": {
  "kernelspec": {
   "display_name": "Python 3 (ipykernel)",
   "language": "python",
   "name": "python3"
  },
  "language_info": {
   "codemirror_mode": {
    "name": "ipython",
    "version": 3
   },
   "file_extension": ".py",
   "mimetype": "text/x-python",
   "name": "python",
   "nbconvert_exporter": "python",
   "pygments_lexer": "ipython3",
   "version": "3.12.2"
  }
 },
 "nbformat": 4,
 "nbformat_minor": 5
}
