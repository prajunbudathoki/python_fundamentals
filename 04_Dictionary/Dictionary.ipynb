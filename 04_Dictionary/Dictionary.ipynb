{
 "cells": [
  {
   "cell_type": "markdown",
   "id": "88af4bd7-49c7-47a3-b3d0-2a67cd244ef7",
   "metadata": {},
   "source": [
    "# Dictionary Creation"
   ]
  },
  {
   "cell_type": "code",
   "execution_count": 8,
   "id": "ff98aba0-4c30-4713-9d5c-98e20f126fd7",
   "metadata": {},
   "outputs": [
    {
     "name": "stdout",
     "output_type": "stream",
     "text": [
      "{1: 'prajun', 2: '21'}\n",
      "{'name': 'hazel', 1: ['prajun', 'Budhathoki']}\n"
     ]
    }
   ],
   "source": [
    "# empty dictionary\n",
    "dict_1 = () # {}\n",
    "\n",
    "# dictionary with key integer\n",
    "dict_1 = {\n",
    "    1: 'prajun',\n",
    "    2: '21'\n",
    "}\n",
    "print(dict_1)\n",
    "\n",
    "# dictionary with mixed value keys\n",
    "dict_1 = {\n",
    "    'name': 'hazel',\n",
    "     1 : ['prajun','Budhathoki']\n",
    "}\n",
    "print(dict_1)"
   ]
  },
  {
   "cell_type": "markdown",
   "id": "68d00189-cf08-4db2-b61d-96056c316477",
   "metadata": {},
   "source": [
    "# Acessing Dictionary"
   ]
  },
  {
   "cell_type": "code",
   "execution_count": 10,
   "id": "73f79f32-cd31-497f-9285-5bcb7df74e2a",
   "metadata": {},
   "outputs": [
    {
     "name": "stdout",
     "output_type": "stream",
     "text": [
      "21\n"
     ]
    }
   ],
   "source": [
    "my_dict = {\n",
    "    'name': 'prajun',\n",
    "    'age' : 21\n",
    "}\n",
    "print(my_dict['age'])"
   ]
  },
  {
   "cell_type": "markdown",
   "id": "8010d68a-dc05-459e-a494-bc8d8eafdcba",
   "metadata": {},
   "source": [
    "# Adding or modifying the dictionary"
   ]
  },
  {
   "cell_type": "code",
   "execution_count": 11,
   "id": "2b492265-08ba-4325-8274-6789eb57067d",
   "metadata": {},
   "outputs": [
    {
     "name": "stdout",
     "output_type": "stream",
     "text": [
      "{'name': 'prajun', 'age': 21, 'blood': 'o-positive'}\n"
     ]
    }
   ],
   "source": [
    "my_dict = {'name':'prajuuun','age':21,'blood':'o-positive'}\n",
    "\n",
    "# updating name key\n",
    "my_dict['name'] = 'prajun'\n",
    "print(my_dict)"
   ]
  },
  {
   "cell_type": "code",
   "execution_count": 16,
   "id": "52032ee5-39bb-4d6b-9670-3ea2b5ece360",
   "metadata": {},
   "outputs": [
    {
     "name": "stdout",
     "output_type": "stream",
     "text": [
      "{'name': 'prajun', 'age': 21, 'blood': 'o-positive', 'anime': 'one-piece'}\n"
     ]
    }
   ],
   "source": [
    "# adding new key\n",
    "my_dict['anime'] = 'one-piece'\n",
    "print(my_dict)"
   ]
  },
  {
   "cell_type": "code",
   "execution_count": 17,
   "id": "da496819-32e7-4031-a303-85b07acee616",
   "metadata": {},
   "outputs": [
    {
     "name": "stdout",
     "output_type": "stream",
     "text": [
      "one-piece\n",
      "{'name': 'prajun', 'age': 21, 'blood': 'o-positive'}\n"
     ]
    }
   ],
   "source": [
    "# removing key \n",
    "print(my_dict.pop('anime'))\n",
    "print(my_dict)"
   ]
  },
  {
   "cell_type": "markdown",
   "id": "741c8bdb-caec-4de2-8892-102cff17225e",
   "metadata": {},
   "source": [
    "# Dictionary Methods"
   ]
  },
  {
   "cell_type": "code",
   "execution_count": 19,
   "id": "9ef405fc-49a7-499f-869f-4f135601e9de",
   "metadata": {},
   "outputs": [
    {
     "name": "stdout",
     "output_type": "stream",
     "text": [
      "{1: 1, 2: 4, 3: 9, 4: 16}\n"
     ]
    }
   ],
   "source": [
    "squares = {1:1,2:4,3:9,4:16}\n",
    "my_dict = squares.copy()\n",
    "print(my_dict)"
   ]
  },
  {
   "cell_type": "code",
   "execution_count": 24,
   "id": "bff76ffa-48dc-467c-bbd0-0c5c643b266a",
   "metadata": {},
   "outputs": [
    {
     "name": "stdout",
     "output_type": "stream",
     "text": [
      "Items: dict_items([(1, 1), (2, 4), (3, 9), (4, 16)])\n",
      "Keys : dict_keys([1, 2, 3, 4])\n",
      "Values : dict_values([1, 4, 9, 16])\n"
     ]
    }
   ],
   "source": [
    "print(f\"Items: {my_dict.items()}\")\n",
    "print(f\"Keys : {my_dict.keys()}\")\n",
    "print(f\"Values : {my_dict.values()}\")"
   ]
  },
  {
   "cell_type": "markdown",
   "id": "b314b22d-074d-43b0-b688-cfb8aa330bee",
   "metadata": {},
   "source": [
    "# Dictionary Comprehension"
   ]
  },
  {
   "cell_type": "code",
   "execution_count": 25,
   "id": "80f52ad5-b90f-46a6-a256-3e19745a65a5",
   "metadata": {},
   "outputs": [
    {
     "name": "stdout",
     "output_type": "stream",
     "text": [
      "a\n",
      "b\n",
      "c\n"
     ]
    }
   ],
   "source": [
    "d = {1:'a',2:'b',3:'c'}\n",
    "for v in d.values():\n",
    "    print(v)"
   ]
  },
  {
   "cell_type": "code",
   "execution_count": 26,
   "id": "1f8a86f1-6c62-4b26-a7bb-56c858827850",
   "metadata": {},
   "outputs": [
    {
     "name": "stdout",
     "output_type": "stream",
     "text": [
      "{1: 1, 2: 4, 3: 9, 4: 16, 5: 25}\n"
     ]
    }
   ],
   "source": [
    "# Dictionary comprehension to create a dictionary of numbers and their squares\n",
    "squares = {x: x**2 for x in range(1, 6)}\n",
    "print(squares)"
   ]
  },
  {
   "cell_type": "code",
   "execution_count": null,
   "id": "f12abd54-3d9f-4511-b93c-717157d8c5f5",
   "metadata": {},
   "outputs": [],
   "source": []
  }
 ],
 "metadata": {
  "kernelspec": {
   "display_name": "Python 3 (ipykernel)",
   "language": "python",
   "name": "python3"
  },
  "language_info": {
   "codemirror_mode": {
    "name": "ipython",
    "version": 3
   },
   "file_extension": ".py",
   "mimetype": "text/x-python",
   "name": "python",
   "nbconvert_exporter": "python",
   "pygments_lexer": "ipython3",
   "version": "3.12.2"
  }
 },
 "nbformat": 4,
 "nbformat_minor": 5
}
