{
 "cells": [
  {
   "cell_type": "markdown",
   "id": "50b028e9-0ec2-4635-aa66-f54aff28052b",
   "metadata": {},
   "source": [
    "np.sort()"
   ]
  },
  {
   "cell_type": "code",
   "execution_count": 1,
   "id": "993ea09e-3587-464d-8583-9bbf3740f55a",
   "metadata": {},
   "outputs": [
    {
     "data": {
      "text/plain": [
       "array([91, 82, 81, 78, 73, 70, 68, 68, 64, 39, 35, 35, 31, 25,  3])"
      ]
     },
     "execution_count": 1,
     "metadata": {},
     "output_type": "execute_result"
    }
   ],
   "source": [
    "import numpy as np\n",
    "a = np.random.randint(1,100,15)\n",
    "np.sort(a)[::-1]"
   ]
  },
  {
   "cell_type": "code",
   "execution_count": 2,
   "id": "a6343abb-8289-4928-872c-4e2879e412a7",
   "metadata": {},
   "outputs": [
    {
     "data": {
      "text/plain": [
       "array([[ 1,  5, 24,  1],\n",
       "       [ 4, 20, 33, 19],\n",
       "       [13, 23, 53, 42],\n",
       "       [36, 44, 74, 52],\n",
       "       [89, 70, 81, 62],\n",
       "       [94, 93, 97, 74]])"
      ]
     },
     "execution_count": 2,
     "metadata": {},
     "output_type": "execute_result"
    }
   ],
   "source": [
    "b = np.random.randint(1,100,24).reshape(6,4)\n",
    "np.sort(b,axis=0)"
   ]
  },
  {
   "cell_type": "markdown",
   "id": "0efbdee7-a0e0-4d89-bf39-2069441333b6",
   "metadata": {},
   "source": [
    "np.append() : appends values along the mentioned axis at the end of the array"
   ]
  },
  {
   "cell_type": "code",
   "execution_count": 3,
   "id": "f11fd0b1-a5e9-4b4c-9307-a2b5253fdf34",
   "metadata": {},
   "outputs": [
    {
     "data": {
      "text/plain": [
       "array([ 70,  81,  25,  39,  64,  68,  31,  91,  35,   3,  35,  68,  78,\n",
       "        73,  82, 200])"
      ]
     },
     "execution_count": 3,
     "metadata": {},
     "output_type": "execute_result"
    }
   ],
   "source": [
    "np.append(a,200)"
   ]
  },
  {
   "cell_type": "markdown",
   "id": "24fb72dd-240d-4eda-a544-b0518f547caa",
   "metadata": {},
   "source": [
    "np.concatenate()"
   ]
  },
  {
   "cell_type": "code",
   "execution_count": 4,
   "id": "86298029-43c8-41cb-8743-cc23d44ebf36",
   "metadata": {},
   "outputs": [
    {
     "data": {
      "text/plain": [
       "array([[ 0,  1,  2],\n",
       "       [ 3,  4,  5],\n",
       "       [ 6,  7,  8],\n",
       "       [ 9, 10, 11]])"
      ]
     },
     "execution_count": 4,
     "metadata": {},
     "output_type": "execute_result"
    }
   ],
   "source": [
    "c = np.arange(6).reshape(2,3)\n",
    "d = np.arange(6,12).reshape(2,3)\n",
    "np.concatenate((c,d),axis=0)\n"
   ]
  },
  {
   "cell_type": "markdown",
   "id": "26ad9275-8cac-48b0-9a17-6c8374633e4a",
   "metadata": {},
   "source": [
    "np.unique()"
   ]
  },
  {
   "cell_type": "code",
   "execution_count": 5,
   "id": "56e68880-8d44-43ef-a377-dafb2227bc6b",
   "metadata": {},
   "outputs": [
    {
     "data": {
      "text/plain": [
       "array([1, 2, 3, 4, 5, 6])"
      ]
     },
     "execution_count": 5,
     "metadata": {},
     "output_type": "execute_result"
    }
   ],
   "source": [
    "e = np.array([1,1,2,2,3,4,3,5,5,6])\n",
    "np.unique(e)"
   ]
  },
  {
   "cell_type": "markdown",
   "id": "cbbc7d0b-7f59-45c5-9c60-6f3ad33fe11f",
   "metadata": {},
   "source": [
    "np.expand_dims"
   ]
  },
  {
   "cell_type": "code",
   "execution_count": 6,
   "id": "18ff6416-004d-431c-8370-d9cdd05af445",
   "metadata": {},
   "outputs": [
    {
     "data": {
      "text/plain": [
       "array([[70, 81, 25, 39, 64, 68, 31, 91, 35,  3, 35, 68, 78, 73, 82]])"
      ]
     },
     "execution_count": 6,
     "metadata": {},
     "output_type": "execute_result"
    }
   ],
   "source": [
    "np.expand_dims(a,axis=0)"
   ]
  },
  {
   "cell_type": "markdown",
   "id": "a10851ff-9d34-46a3-b731-4bc04cb8ed51",
   "metadata": {},
   "source": [
    "np.where : return the indices of the element in an input where the given condition is satisfied"
   ]
  },
  {
   "cell_type": "code",
   "execution_count": 7,
   "id": "c2e4b9c9-7f87-43bd-9403-e1458cdbfd9c",
   "metadata": {},
   "outputs": [
    {
     "data": {
      "text/plain": [
       "(array([ 0,  1,  4,  5,  7, 11, 12, 13, 14], dtype=int64),)"
      ]
     },
     "execution_count": 7,
     "metadata": {},
     "output_type": "execute_result"
    }
   ],
   "source": [
    "#find all the indices where a is greater than 50\n",
    "np.where(a>50)"
   ]
  },
  {
   "cell_type": "code",
   "execution_count": 8,
   "id": "0bab21c7-49a0-448f-a155-76c038c2739c",
   "metadata": {},
   "outputs": [
    {
     "data": {
      "text/plain": [
       "array([ 0,  0, 25, 39,  0,  0, 31,  0, 35,  3, 35,  0,  0,  0,  0])"
      ]
     },
     "execution_count": 8,
     "metadata": {},
     "output_type": "execute_result"
    }
   ],
   "source": [
    "#replce all the value greater than 50 with 0\n",
    "np.where(a>50,0,a)"
   ]
  },
  {
   "cell_type": "markdown",
   "id": "b81454b2-868e-45cf-9954-a3473fa48f51",
   "metadata": {},
   "source": [
    "np.argmax : returns indices of the max element of the array in a particular axis"
   ]
  },
  {
   "cell_type": "code",
   "execution_count": 9,
   "id": "c6d512b9-ddb6-4454-8a62-5cee5374c121",
   "metadata": {},
   "outputs": [
    {
     "data": {
      "text/plain": [
       "7"
      ]
     },
     "execution_count": 9,
     "metadata": {},
     "output_type": "execute_result"
    }
   ],
   "source": [
    "np.argmax(a)"
   ]
  },
  {
   "cell_type": "code",
   "execution_count": 10,
   "id": "99a4b419-8416-4b5f-a5c3-0f949b8c0f68",
   "metadata": {},
   "outputs": [
    {
     "data": {
      "text/plain": [
       "9"
      ]
     },
     "execution_count": 10,
     "metadata": {},
     "output_type": "execute_result"
    }
   ],
   "source": [
    "np.argmin(a)\n"
   ]
  },
  {
   "cell_type": "markdown",
   "id": "3ba1f088-dd96-406d-92dc-44059e740b4b",
   "metadata": {},
   "source": [
    "np.cumsum : when we want to compute the cummulative sum of array elements over a given axis"
   ]
  },
  {
   "cell_type": "code",
   "execution_count": 11,
   "id": "36359ad3-d45c-4a36-b2c7-9bc090fb3481",
   "metadata": {},
   "outputs": [
    {
     "data": {
      "text/plain": [
       "array([ 70, 151, 176, 215, 279, 347, 378, 469, 504, 507, 542, 610, 688,\n",
       "       761, 843])"
      ]
     },
     "execution_count": 11,
     "metadata": {},
     "output_type": "execute_result"
    }
   ],
   "source": [
    "np.cumsum(a)"
   ]
  },
  {
   "cell_type": "code",
   "execution_count": 12,
   "id": "a363958c-6b75-47d9-81fa-e5d3c9549cd8",
   "metadata": {},
   "outputs": [
    {
     "data": {
      "text/plain": [
       "array([         70,        5670,      141750,     5528250,   353808000,\n",
       "       -1710859776, -1497045504,  1207812608,  -676231680, -2028695040,\n",
       "        2010117632,  -750954496,  1555091456,  1852526592,  1583325184])"
      ]
     },
     "execution_count": 12,
     "metadata": {},
     "output_type": "execute_result"
    }
   ],
   "source": [
    "#np.cumprod\n",
    "np.cumprod(a)"
   ]
  },
  {
   "cell_type": "markdown",
   "id": "86784622-1717-4b7d-bc35-b47803ef0988",
   "metadata": {},
   "source": [
    "np.percentile : used to compute the nth percentile of the given data along the specified axis\n"
   ]
  },
  {
   "cell_type": "code",
   "execution_count": 13,
   "id": "b97c6e50-80f2-41ce-ab10-58da7ec1b185",
   "metadata": {},
   "outputs": [
    {
     "data": {
      "text/plain": [
       "3.0"
      ]
     },
     "execution_count": 13,
     "metadata": {},
     "output_type": "execute_result"
    }
   ],
   "source": [
    "np.percentile(a,0)"
   ]
  },
  {
   "cell_type": "markdown",
   "id": "b3a2eeaf-fcc2-4496-a7d4-8be3c1bfb8c9",
   "metadata": {},
   "source": [
    "np.histogram : represents the frequency of data distribution in the graphical form\n"
   ]
  },
  {
   "cell_type": "code",
   "execution_count": 15,
   "id": "e3d3a45d-1b8c-428b-b296-15378b866598",
   "metadata": {},
   "outputs": [
    {
     "data": {
      "text/plain": [
       "(array([6, 9], dtype=int64), array([  0,  50, 100]))"
      ]
     },
     "execution_count": 15,
     "metadata": {},
     "output_type": "execute_result"
    }
   ],
   "source": [
    "np.histogram(a,bins=[0,50,100])"
   ]
  },
  {
   "cell_type": "markdown",
   "id": "02c055c3-6665-48f5-866c-275667f6f159",
   "metadata": {},
   "source": [
    "np.corrcoef : return pearson product-moment correlation coefficient"
   ]
  },
  {
   "cell_type": "code",
   "execution_count": 16,
   "id": "59df2497-13ea-4a05-8906-1c7b02ebf7b8",
   "metadata": {},
   "outputs": [
    {
     "data": {
      "text/plain": [
       "array([[1.       , 0.4040951],\n",
       "       [0.4040951, 1.       ]])"
      ]
     },
     "execution_count": 16,
     "metadata": {},
     "output_type": "execute_result"
    }
   ],
   "source": [
    "salary = np.array([20000,40000,25000,35000,50000])\n",
    "experience = np.array([1,3,2,4,2])\n",
    "np.corrcoef(salary,experience)"
   ]
  },
  {
   "cell_type": "markdown",
   "id": "d0272c7a-b318-4cd6-b7e9-9f390fc3291e",
   "metadata": {},
   "source": [
    "np.isin : we can see that one array having values are checked in different numpy array having diffn elements with diffn sizes"
   ]
  },
  {
   "cell_type": "code",
   "execution_count": 21,
   "id": "966de975-c3aa-4768-94fe-4bc0c577b19e",
   "metadata": {},
   "outputs": [
    {
     "data": {
      "text/plain": [
       "array([70])"
      ]
     },
     "execution_count": 21,
     "metadata": {},
     "output_type": "execute_result"
    }
   ],
   "source": [
    "a\n",
    "items = [10,20,30,40,50,60,70,80,90]\n",
    "a[np.isin(a,items)]\n"
   ]
  },
  {
   "cell_type": "markdown",
   "id": "8965f3c2-c250-4618-992e-4ad2f306ab58",
   "metadata": {},
   "source": [
    "np.flip : reverse the order of an array elements along the specified axis preserving the shape of array"
   ]
  },
  {
   "cell_type": "code",
   "execution_count": 25,
   "id": "1bb8d67d-1e15-4c87-ba3f-799a140fe8e6",
   "metadata": {},
   "outputs": [
    {
     "data": {
      "text/plain": [
       "array([82, 73, 78, 68, 35,  3, 35, 91, 31, 68, 64, 39, 25, 81, 70])"
      ]
     },
     "execution_count": 25,
     "metadata": {},
     "output_type": "execute_result"
    }
   ],
   "source": [
    "np.flip(a)"
   ]
  },
  {
   "cell_type": "code",
   "execution_count": 26,
   "id": "b5002d68-9114-42d3-91e7-7f51a6b00dcb",
   "metadata": {},
   "outputs": [
    {
     "data": {
      "text/plain": [
       "array([70, 81, 25, 39, 64, 68, 31, 91, 35,  3, 35, 68, 78, 73, 82])"
      ]
     },
     "execution_count": 26,
     "metadata": {},
     "output_type": "execute_result"
    }
   ],
   "source": [
    "a"
   ]
  },
  {
   "cell_type": "code",
   "execution_count": null,
   "id": "acc5a276-5fca-4ef3-a5c3-2ccd92095708",
   "metadata": {},
   "outputs": [],
   "source": []
  }
 ],
 "metadata": {
  "kernelspec": {
   "display_name": "Python 3 (ipykernel)",
   "language": "python",
   "name": "python3"
  },
  "language_info": {
   "codemirror_mode": {
    "name": "ipython",
    "version": 3
   },
   "file_extension": ".py",
   "mimetype": "text/x-python",
   "name": "python",
   "nbconvert_exporter": "python",
   "pygments_lexer": "ipython3",
   "version": "3.12.2"
  }
 },
 "nbformat": 4,
 "nbformat_minor": 5
}
