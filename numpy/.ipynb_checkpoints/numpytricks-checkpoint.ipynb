{
 "cells": [
  {
   "cell_type": "markdown",
   "id": "50b028e9-0ec2-4635-aa66-f54aff28052b",
   "metadata": {},
   "source": [
    "np.sort()"
   ]
  },
  {
   "cell_type": "code",
   "execution_count": 17,
   "id": "993ea09e-3587-464d-8583-9bbf3740f55a",
   "metadata": {},
   "outputs": [
    {
     "data": {
      "text/plain": [
       "array([97, 92, 86, 81, 79, 62, 60, 48, 48, 41, 33, 19, 19, 10,  7])"
      ]
     },
     "execution_count": 17,
     "metadata": {},
     "output_type": "execute_result"
    }
   ],
   "source": [
    "import numpy as np\n",
    "a = np.random.randint(1,100,15)\n",
    "np.sort(a)[::-1]"
   ]
  },
  {
   "cell_type": "code",
   "execution_count": 16,
   "id": "a6343abb-8289-4928-872c-4e2879e412a7",
   "metadata": {},
   "outputs": [
    {
     "data": {
      "text/plain": [
       "array([[ 9, 43, 45, 23],\n",
       "       [25, 47, 49, 24],\n",
       "       [26, 76, 50, 26],\n",
       "       [35, 82, 79, 42],\n",
       "       [66, 86, 84, 85],\n",
       "       [79, 87, 94, 97]])"
      ]
     },
     "execution_count": 16,
     "metadata": {},
     "output_type": "execute_result"
    }
   ],
   "source": [
    "b = np.random.randint(1,100,24).reshape(6,4)\n",
    "np.sort(b,axis=0)"
   ]
  },
  {
   "cell_type": "markdown",
   "id": "0efbdee7-a0e0-4d89-bf39-2069441333b6",
   "metadata": {},
   "source": [
    "np.append() : appends values along the mentioned axis at the end of the array"
   ]
  },
  {
   "cell_type": "code",
   "execution_count": 18,
   "id": "f11fd0b1-a5e9-4b4c-9307-a2b5253fdf34",
   "metadata": {},
   "outputs": [
    {
     "data": {
      "text/plain": [
       "array([ 92,  86,  60,  48,  48,  41,  79,   7,  33,  19,  19,  97,  62,\n",
       "        10,  81, 200])"
      ]
     },
     "execution_count": 18,
     "metadata": {},
     "output_type": "execute_result"
    }
   ],
   "source": [
    "np.append(a,200)"
   ]
  },
  {
   "cell_type": "markdown",
   "id": "24fb72dd-240d-4eda-a544-b0518f547caa",
   "metadata": {},
   "source": [
    "np.concatenate()"
   ]
  },
  {
   "cell_type": "code",
   "execution_count": 21,
   "id": "86298029-43c8-41cb-8743-cc23d44ebf36",
   "metadata": {},
   "outputs": [
    {
     "data": {
      "text/plain": [
       "array([[ 0,  1,  2],\n",
       "       [ 3,  4,  5],\n",
       "       [ 6,  7,  8],\n",
       "       [ 9, 10, 11]])"
      ]
     },
     "execution_count": 21,
     "metadata": {},
     "output_type": "execute_result"
    }
   ],
   "source": [
    "c = np.arange(6).reshape(2,3)\n",
    "d = np.arange(6,12).reshape(2,3)\n",
    "np.concatenate((c,d),axis=0)\n"
   ]
  },
  {
   "cell_type": "markdown",
   "id": "26ad9275-8cac-48b0-9a17-6c8374633e4a",
   "metadata": {},
   "source": [
    "np.unique()"
   ]
  },
  {
   "cell_type": "code",
   "execution_count": 22,
   "id": "56e68880-8d44-43ef-a377-dafb2227bc6b",
   "metadata": {},
   "outputs": [
    {
     "data": {
      "text/plain": [
       "array([1, 2, 3, 4, 5, 6])"
      ]
     },
     "execution_count": 22,
     "metadata": {},
     "output_type": "execute_result"
    }
   ],
   "source": [
    "e = np.array([1,1,2,2,3,4,3,5,5,6])\n",
    "np.unique(e)"
   ]
  },
  {
   "cell_type": "code",
   "execution_count": null,
   "id": "ba6664e6-9de1-4f6e-938a-0c03aef87757",
   "metadata": {},
   "outputs": [],
   "source": []
  }
 ],
 "metadata": {
  "kernelspec": {
   "display_name": "Python 3 (ipykernel)",
   "language": "python",
   "name": "python3"
  },
  "language_info": {
   "codemirror_mode": {
    "name": "ipython",
    "version": 3
   },
   "file_extension": ".py",
   "mimetype": "text/x-python",
   "name": "python",
   "nbconvert_exporter": "python",
   "pygments_lexer": "ipython3",
   "version": "3.12.2"
  }
 },
 "nbformat": 4,
 "nbformat_minor": 5
}
