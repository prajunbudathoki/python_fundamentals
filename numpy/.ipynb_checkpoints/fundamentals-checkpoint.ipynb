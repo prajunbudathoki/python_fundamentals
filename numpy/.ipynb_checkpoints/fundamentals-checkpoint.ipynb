{
 "cells": [
  {
   "cell_type": "code",
   "execution_count": 1,
   "id": "5b35199f-8b6a-454f-93aa-0ef1a7d343a9",
   "metadata": {},
   "outputs": [
    {
     "name": "stdout",
     "output_type": "stream",
     "text": [
      "<class 'numpy.ndarray'>\n"
     ]
    }
   ],
   "source": [
    "import numpy as np\n",
    "a = np.array([1,2,3])\n",
    "print(type(a))"
   ]
  },
  {
   "cell_type": "markdown",
   "id": "bf15d1f7-c9a9-445f-a00a-43092dd9168d",
   "metadata": {},
   "source": [
    "#2d and 3d array"
   ]
  },
  {
   "cell_type": "code",
   "execution_count": 2,
   "id": "99aec27d-c62b-4014-9e9a-0bc558092064",
   "metadata": {},
   "outputs": [
    {
     "name": "stdout",
     "output_type": "stream",
     "text": [
      "[[1 2 3]\n",
      " [4 5 6]]\n"
     ]
    }
   ],
   "source": [
    "b = np.array([[1,2,3],[4,5,6]])\n",
    "print(b)"
   ]
  },
  {
   "cell_type": "code",
   "execution_count": 3,
   "id": "b38849a3-9115-4a42-a769-c562da771009",
   "metadata": {},
   "outputs": [
    {
     "name": "stdout",
     "output_type": "stream",
     "text": [
      "[[[1 2]\n",
      "  [3 4]\n",
      "  [5 6]]]\n"
     ]
    }
   ],
   "source": [
    "c = np.array([[[1,2],[3,4],[5,6]]])\n",
    "print(c)"
   ]
  },
  {
   "cell_type": "markdown",
   "id": "1f32cdea-938f-4d14-b2a8-3597a58c1048",
   "metadata": {},
   "source": [
    "#dtype"
   ]
  },
  {
   "cell_type": "code",
   "execution_count": 4,
   "id": "d60e671c-bf26-4db1-9d70-f671eb655b35",
   "metadata": {},
   "outputs": [
    {
     "data": {
      "text/plain": [
       "array([1., 2., 3.])"
      ]
     },
     "execution_count": 4,
     "metadata": {},
     "output_type": "execute_result"
    }
   ],
   "source": [
    "np.array([1,2,3],dtype=float)"
   ]
  },
  {
   "cell_type": "markdown",
   "id": "323197c1-4960-469b-a9fb-93bf6bfbd969",
   "metadata": {},
   "source": [
    "#np.arange"
   ]
  },
  {
   "cell_type": "code",
   "execution_count": 5,
   "id": "0ad57e68-bb6b-4a87-99c6-22c3e4a95796",
   "metadata": {},
   "outputs": [
    {
     "data": {
      "text/plain": [
       "array([ 1,  2,  3,  4,  5,  6,  7,  8,  9, 10])"
      ]
     },
     "execution_count": 5,
     "metadata": {},
     "output_type": "execute_result"
    }
   ],
   "source": [
    "np.arange(1,11)"
   ]
  },
  {
   "cell_type": "markdown",
   "id": "388c80de-967d-4218-80a1-8c5a9f52f2d5",
   "metadata": {},
   "source": [
    "#with reshape"
   ]
  },
  {
   "cell_type": "code",
   "execution_count": 6,
   "id": "a5085298-4e86-4f43-8d85-263f086351f9",
   "metadata": {},
   "outputs": [
    {
     "data": {
      "text/plain": [
       "array([[ 1,  2],\n",
       "       [ 3,  4],\n",
       "       [ 5,  6],\n",
       "       [ 7,  8],\n",
       "       [ 9, 10]])"
      ]
     },
     "execution_count": 6,
     "metadata": {},
     "output_type": "execute_result"
    }
   ],
   "source": [
    "np.arange(1,11).reshape(5,2)"
   ]
  },
  {
   "cell_type": "markdown",
   "id": "b2ef1b09-c09b-4e1e-bb02-4d9904e7647e",
   "metadata": {},
   "source": [
    "#np.ones and np.zeros"
   ]
  },
  {
   "cell_type": "code",
   "execution_count": 7,
   "id": "790330ae-3df2-4e5e-83d5-f6a08923099f",
   "metadata": {},
   "outputs": [
    {
     "data": {
      "text/plain": [
       "array([[1., 1., 1., 1.],\n",
       "       [1., 1., 1., 1.],\n",
       "       [1., 1., 1., 1.]])"
      ]
     },
     "execution_count": 7,
     "metadata": {},
     "output_type": "execute_result"
    }
   ],
   "source": [
    "np.ones((3,4))"
   ]
  },
  {
   "cell_type": "code",
   "execution_count": 8,
   "id": "3e8e05f3-727e-4d46-b529-3c99a22da783",
   "metadata": {},
   "outputs": [
    {
     "data": {
      "text/plain": [
       "array([[0., 0., 0., 0.],\n",
       "       [0., 0., 0., 0.],\n",
       "       [0., 0., 0., 0.]])"
      ]
     },
     "execution_count": 8,
     "metadata": {},
     "output_type": "execute_result"
    }
   ],
   "source": [
    "np.zeros((3,4))"
   ]
  },
  {
   "cell_type": "markdown",
   "id": "2ff5b724-6cad-45cb-92f0-41e542386f42",
   "metadata": {},
   "source": [
    "#np.random"
   ]
  },
  {
   "cell_type": "code",
   "execution_count": 9,
   "id": "b8189a4b-8d65-44b4-898f-fccd3a6bec58",
   "metadata": {},
   "outputs": [
    {
     "data": {
      "text/plain": [
       "array([[0.56790776, 0.51812201, 0.94169614, 0.87021167],\n",
       "       [0.85407881, 0.83320774, 0.9960198 , 0.79264053],\n",
       "       [0.74121039, 0.82259154, 0.18120306, 0.16794446]])"
      ]
     },
     "execution_count": 9,
     "metadata": {},
     "output_type": "execute_result"
    }
   ],
   "source": [
    "np.random.random((3,4))"
   ]
  },
  {
   "cell_type": "markdown",
   "id": "feef384b-24d7-4f77-bc70-e8ba33e20ef1",
   "metadata": {},
   "source": [
    "#np.linspace = linearspace\n"
   ]
  },
  {
   "cell_type": "code",
   "execution_count": 10,
   "id": "debc155b-506c-4780-b4a8-561d8152937e",
   "metadata": {},
   "outputs": [
    {
     "data": {
      "text/plain": [
       "array([-10.        ,  -7.77777778,  -5.55555556,  -3.33333333,\n",
       "        -1.11111111,   1.11111111,   3.33333333,   5.55555556,\n",
       "         7.77777778,  10.        ])"
      ]
     },
     "execution_count": 10,
     "metadata": {},
     "output_type": "execute_result"
    }
   ],
   "source": [
    "np.linspace(-10,10,10)"
   ]
  },
  {
   "cell_type": "markdown",
   "id": "e021d31a-6541-42ca-b081-1648f0e1f8ca",
   "metadata": {},
   "source": [
    "#np.identity"
   ]
  },
  {
   "cell_type": "code",
   "execution_count": 11,
   "id": "e58fa06d-fd5f-444b-8595-666bd5a90d61",
   "metadata": {},
   "outputs": [
    {
     "data": {
      "text/plain": [
       "array([[1., 0., 0.],\n",
       "       [0., 1., 0.],\n",
       "       [0., 0., 1.]])"
      ]
     },
     "execution_count": 11,
     "metadata": {},
     "output_type": "execute_result"
    }
   ],
   "source": [
    "np.identity(3)"
   ]
  },
  {
   "cell_type": "markdown",
   "id": "cb31000a-cabf-40d7-97b6-34148b898de0",
   "metadata": {},
   "source": [
    "#Array Attributes"
   ]
  },
  {
   "cell_type": "code",
   "execution_count": 12,
   "id": "40b7232f-e5cb-46f1-8e6d-f49036b32d62",
   "metadata": {},
   "outputs": [
    {
     "data": {
      "text/plain": [
       "array([[ 0.,  1.,  2.],\n",
       "       [ 3.,  4.,  5.],\n",
       "       [ 6.,  7.,  8.],\n",
       "       [ 9., 10., 11.]])"
      ]
     },
     "execution_count": 12,
     "metadata": {},
     "output_type": "execute_result"
    }
   ],
   "source": [
    "a1 = np.arange(10)\n",
    "a2 = np.arange(12,dtype=float).reshape(4,3)\n",
    "a3 = np.arange(8).reshape(2,2,2)\n",
    "a2"
   ]
  },
  {
   "cell_type": "markdown",
   "id": "126ffdd2-c386-4f6b-a5a9-7bd824f503b9",
   "metadata": {},
   "source": [
    "#ndim"
   ]
  },
  {
   "cell_type": "code",
   "execution_count": 13,
   "id": "6e6a2543-b79b-4220-b272-f945cd74b260",
   "metadata": {},
   "outputs": [
    {
     "data": {
      "text/plain": [
       "3"
      ]
     },
     "execution_count": 13,
     "metadata": {},
     "output_type": "execute_result"
    }
   ],
   "source": [
    "a3.ndim"
   ]
  },
  {
   "cell_type": "markdown",
   "id": "d02a76c5-1bb9-4e71-87b6-b6971b665105",
   "metadata": {},
   "source": [
    "#shape"
   ]
  },
  {
   "cell_type": "code",
   "execution_count": 14,
   "id": "3bfaa98a-9d65-4c95-b47e-a07500b82e19",
   "metadata": {},
   "outputs": [
    {
     "data": {
      "text/plain": [
       "(4, 3)"
      ]
     },
     "execution_count": 14,
     "metadata": {},
     "output_type": "execute_result"
    }
   ],
   "source": [
    "a2.shape"
   ]
  },
  {
   "cell_type": "markdown",
   "id": "71dda98b-d954-4b1d-9cc0-bbbf382db45b",
   "metadata": {},
   "source": [
    "#size"
   ]
  },
  {
   "cell_type": "code",
   "execution_count": 15,
   "id": "51433517-18bf-4a9b-9eb4-0d2aa985236f",
   "metadata": {},
   "outputs": [
    {
     "data": {
      "text/plain": [
       "8"
      ]
     },
     "execution_count": 15,
     "metadata": {},
     "output_type": "execute_result"
    }
   ],
   "source": [
    "a3.size"
   ]
  },
  {
   "cell_type": "markdown",
   "id": "95f211de-0f42-4c2b-809f-7fb554920de6",
   "metadata": {},
   "source": [
    "###itemsize\n"
   ]
  },
  {
   "cell_type": "code",
   "execution_count": 16,
   "id": "75d1c4c2-57e0-4fe4-9ae6-06185b656f07",
   "metadata": {},
   "outputs": [
    {
     "data": {
      "text/plain": [
       "4"
      ]
     },
     "execution_count": 16,
     "metadata": {},
     "output_type": "execute_result"
    }
   ],
   "source": [
    "a1.itemsize"
   ]
  },
  {
   "cell_type": "markdown",
   "id": "8a507a66-2c1a-4bc8-a277-2745011db4e4",
   "metadata": {},
   "source": [
    "###dtype"
   ]
  },
  {
   "cell_type": "code",
   "execution_count": 17,
   "id": "ebacaf60-81c5-4329-9653-d7b6df82a1cc",
   "metadata": {},
   "outputs": [
    {
     "name": "stdout",
     "output_type": "stream",
     "text": [
      "int32\n",
      "float64\n",
      "int32\n"
     ]
    }
   ],
   "source": [
    "print(a1.dtype)\n",
    "print(a2.dtype)\n",
    "print(a3.dtype)\n",
    "\n"
   ]
  },
  {
   "cell_type": "markdown",
   "id": "8aa0eb23-60c1-45d0-9c78-8a47040e7b57",
   "metadata": {},
   "source": [
    "### Changing datatype"
   ]
  },
  {
   "cell_type": "code",
   "execution_count": 18,
   "id": "bb8b8969-a61f-4079-a0cc-83aa73a6cb3d",
   "metadata": {},
   "outputs": [
    {
     "data": {
      "text/plain": [
       "array([[[0, 1],\n",
       "        [2, 3]],\n",
       "\n",
       "       [[4, 5],\n",
       "        [6, 7]]])"
      ]
     },
     "execution_count": 18,
     "metadata": {},
     "output_type": "execute_result"
    }
   ],
   "source": [
    "#astype\n",
    "a3.astype(np.int32)"
   ]
  },
  {
   "cell_type": "code",
   "execution_count": 19,
   "id": "16d7bc7a-d017-408a-bf4d-c4674e5b56f1",
   "metadata": {},
   "outputs": [
    {
     "data": {
      "text/plain": [
       "array([ 0,  1,  4,  9, 16, 25, 36, 49, 64, 81])"
      ]
     },
     "execution_count": 19,
     "metadata": {},
     "output_type": "execute_result"
    }
   ],
   "source": [
    "#airthemetic\n",
    "a1 ** 2\n"
   ]
  },
  {
   "cell_type": "code",
   "execution_count": 20,
   "id": "cde00dde-cfb8-4fb0-8be5-1fbf577b70ec",
   "metadata": {},
   "outputs": [
    {
     "data": {
      "text/plain": [
       "array([False, False, False, False, False, False,  True,  True,  True,\n",
       "        True])"
      ]
     },
     "execution_count": 20,
     "metadata": {},
     "output_type": "execute_result"
    }
   ],
   "source": [
    "#realtional\n",
    "a1 > 5"
   ]
  },
  {
   "cell_type": "code",
   "execution_count": 21,
   "id": "18e32e5a-7b10-42ee-ae0d-5eec40c3d453",
   "metadata": {},
   "outputs": [],
   "source": [
    "#Vector operations\n",
    "#airthemetic\n",
    "# a1 ** a2"
   ]
  },
  {
   "cell_type": "markdown",
   "id": "e41dcc9a-4990-48fc-ad38-384102255e32",
   "metadata": {},
   "source": [
    "Array functions"
   ]
  },
  {
   "cell_type": "code",
   "execution_count": 22,
   "id": "b7f526ae-a5f0-4620-ba14-7d537bdc29bd",
   "metadata": {},
   "outputs": [
    {
     "data": {
      "text/plain": [
       "array([[ 5., 25., 56.],\n",
       "       [78., 92., 44.],\n",
       "       [34., 58., 68.]])"
      ]
     },
     "execution_count": 22,
     "metadata": {},
     "output_type": "execute_result"
    }
   ],
   "source": [
    "a1 = np.random.random((3,3))\n",
    "a1 = np.round(a1*100)\n",
    "a1"
   ]
  },
  {
   "cell_type": "code",
   "execution_count": 23,
   "id": "f0e575f0-2e05-411d-afb7-144488180ad1",
   "metadata": {},
   "outputs": [
    {
     "data": {
      "text/plain": [
       "array([ 5., 44., 34.])"
      ]
     },
     "execution_count": 23,
     "metadata": {},
     "output_type": "execute_result"
    }
   ],
   "source": [
    "#max/min/sum/prod\n",
    "#0 -> col and 1-> row\n",
    "np.max(a1)\n",
    "np.min(a1)\n",
    "np.sum(a1)\n",
    "np.prod(a1)\n",
    "np.min(a1,axis=1)"
   ]
  },
  {
   "cell_type": "code",
   "execution_count": 24,
   "id": "1ed3851a-fcbf-46bc-bd4b-a24aba03e48b",
   "metadata": {},
   "outputs": [
    {
     "data": {
      "text/plain": [
       "655.8765432098766"
      ]
     },
     "execution_count": 24,
     "metadata": {},
     "output_type": "execute_result"
    }
   ],
   "source": [
    "#mean/median/std/var\n",
    "np.mean(a1,axis=1)\n",
    "np.median(a1)\n",
    "np.std(a1)\n",
    "np.var(a1)"
   ]
  },
  {
   "cell_type": "code",
   "execution_count": 25,
   "id": "b3d84cfe-777a-4da3-99b4-438bf18a7f1c",
   "metadata": {},
   "outputs": [
    {
     "data": {
      "text/plain": [
       "array([[-0.95892427, -0.13235175, -0.521551  ],\n",
       "       [ 0.51397846, -0.77946607,  0.01770193],\n",
       "       [ 0.52908269,  0.99287265, -0.89792768]])"
      ]
     },
     "execution_count": 25,
     "metadata": {},
     "output_type": "execute_result"
    }
   ],
   "source": [
    "#trigonometric functions\n",
    "np.sin(a1)"
   ]
  },
  {
   "cell_type": "code",
   "execution_count": 26,
   "id": "07b31484-6893-44e2-857d-86fd80d9b662",
   "metadata": {},
   "outputs": [
    {
     "data": {
      "text/plain": [
       "array([[114, 120, 126],\n",
       "       [378, 400, 422],\n",
       "       [642, 680, 718]])"
      ]
     },
     "execution_count": 26,
     "metadata": {},
     "output_type": "execute_result"
    }
   ],
   "source": [
    "#dot product\n",
    "a2 = np.arange(12).reshape(3,4)\n",
    "a3 = np.arange(12,24).reshape(4,3)\n",
    "np.dot(a2,a3)"
   ]
  },
  {
   "cell_type": "code",
   "execution_count": 27,
   "id": "f604f26c-04ea-4e92-b9b7-e4b2c65e65da",
   "metadata": {},
   "outputs": [
    {
     "data": {
      "text/plain": [
       "array([[1.48413159e+02, 7.20048993e+10, 2.09165950e+24],\n",
       "       [7.49841700e+33, 9.01762841e+39, 1.28516001e+19],\n",
       "       [5.83461743e+14, 1.54553894e+25, 3.40427605e+29]])"
      ]
     },
     "execution_count": 27,
     "metadata": {},
     "output_type": "execute_result"
    }
   ],
   "source": [
    "#log and exponents\n",
    "np.log(a1)\n",
    "np.exp(a1)"
   ]
  },
  {
   "cell_type": "code",
   "execution_count": 28,
   "id": "f8c7ec51-b5a4-4745-af7b-4814338ccce3",
   "metadata": {},
   "outputs": [
    {
     "data": {
      "text/plain": [
       "array([[ 4., 69., 86.],\n",
       "       [ 5., 69., 90.]])"
      ]
     },
     "execution_count": 28,
     "metadata": {},
     "output_type": "execute_result"
    }
   ],
   "source": [
    "#round/floor/ceil\n",
    "np.round(np.random.random((2,3))*100)\n",
    "np.floor(np.random.random((2,3))*100)\n",
    "np.ceil(np.random.random((2,3))*100)\n",
    "\n"
   ]
  },
  {
   "cell_type": "code",
   "execution_count": 29,
   "id": "0a10d94b-1a12-4d05-aa16-b1549c58152f",
   "metadata": {},
   "outputs": [
    {
     "data": {
      "text/plain": [
       "array([ 2,  6, 10])"
      ]
     },
     "execution_count": 29,
     "metadata": {},
     "output_type": "execute_result"
    }
   ],
   "source": [
    "#indexing \n",
    "a1 = np.arange(10)\n",
    "a2 = np.arange(12).reshape(3,4)\n",
    "a3 = np.arange(8).reshape(2,2,2)\n",
    "\n",
    "a1[-1]\n",
    "a2[1,1]\n",
    "a3[1,0,1]\n",
    "\n",
    "#slicing\n",
    "a1[2:5]\n",
    "a2[0,:]\n",
    "a2[:,2]\n"
   ]
  },
  {
   "cell_type": "code",
   "execution_count": 30,
   "id": "909d26b2-2edb-4553-8e16-4df3c5640663",
   "metadata": {},
   "outputs": [
    {
     "data": {
      "text/plain": [
       "array([[ 5,  6],\n",
       "       [ 9, 10]])"
      ]
     },
     "execution_count": 30,
     "metadata": {},
     "output_type": "execute_result"
    }
   ],
   "source": [
    "a2[1:,1:3]"
   ]
  },
  {
   "cell_type": "code",
   "execution_count": 31,
   "id": "2efde813-1936-416f-8a7c-22169a4a13d3",
   "metadata": {},
   "outputs": [
    {
     "data": {
      "text/plain": [
       "array([[ 0,  3],\n",
       "       [ 8, 11]])"
      ]
     },
     "execution_count": 31,
     "metadata": {},
     "output_type": "execute_result"
    }
   ],
   "source": [
    "a2[::2,::3]"
   ]
  },
  {
   "cell_type": "code",
   "execution_count": 32,
   "id": "41df5f4a-e732-4fa3-bade-1e2b00a5b3fb",
   "metadata": {},
   "outputs": [
    {
     "data": {
      "text/plain": [
       "array([ 6, 10])"
      ]
     },
     "execution_count": 32,
     "metadata": {},
     "output_type": "execute_result"
    }
   ],
   "source": [
    "a2[1::,2]"
   ]
  },
  {
   "cell_type": "code",
   "execution_count": 33,
   "id": "70884146-6ccf-42b6-b980-b667abe615d4",
   "metadata": {},
   "outputs": [
    {
     "data": {
      "text/plain": [
       "array([[[ 0,  1,  2],\n",
       "        [ 3,  4,  5],\n",
       "        [ 6,  7,  8]],\n",
       "\n",
       "       [[ 9, 10, 11],\n",
       "        [12, 13, 14],\n",
       "        [15, 16, 17]],\n",
       "\n",
       "       [[18, 19, 20],\n",
       "        [21, 22, 23],\n",
       "        [24, 25, 26]]])"
      ]
     },
     "execution_count": 33,
     "metadata": {},
     "output_type": "execute_result"
    }
   ],
   "source": [
    "a3 = np.arange(27).reshape(3,3,3)\n",
    "a3"
   ]
  },
  {
   "cell_type": "code",
   "execution_count": 34,
   "id": "10856fde-c4cb-446d-bf09-55a9859519f5",
   "metadata": {},
   "outputs": [
    {
     "data": {
      "text/plain": [
       "array([[ 0,  2],\n",
       "       [18, 20]])"
      ]
     },
     "execution_count": 34,
     "metadata": {},
     "output_type": "execute_result"
    }
   ],
   "source": [
    "a3[::2,0,::2]"
   ]
  },
  {
   "cell_type": "markdown",
   "id": "56f09721-2773-4a19-90f3-d05508ebe85e",
   "metadata": {},
   "source": [
    "#Iterators"
   ]
  },
  {
   "cell_type": "code",
   "execution_count": 37,
   "id": "8e4eefbc-5c34-4a22-b517-9603a27459e4",
   "metadata": {},
   "outputs": [
    {
     "name": "stdout",
     "output_type": "stream",
     "text": [
      "0\n",
      "1\n",
      "2\n",
      "3\n",
      "4\n",
      "5\n",
      "6\n",
      "7\n",
      "8\n",
      "9\n"
     ]
    }
   ],
   "source": [
    "for i in a1:\n",
    "    print(i)\n",
    "    "
   ]
  },
  {
   "cell_type": "code",
   "execution_count": 42,
   "id": "976e1379-e2ab-4b2d-a898-7eec5aeace58",
   "metadata": {},
   "outputs": [
    {
     "name": "stdout",
     "output_type": "stream",
     "text": [
      "[0 1 2 3]\n",
      "[4 5 6 7]\n",
      "[ 8  9 10 11]\n"
     ]
    }
   ],
   "source": [
    "for i in a2:\n",
    "    print(i)\n"
   ]
  },
  {
   "cell_type": "code",
   "execution_count": 43,
   "id": "5258329f-6b1f-44a8-a37e-ba8b508bd1b7",
   "metadata": {},
   "outputs": [
    {
     "name": "stdout",
     "output_type": "stream",
     "text": [
      "[[0 1 2]\n",
      " [3 4 5]\n",
      " [6 7 8]]\n",
      "[[ 9 10 11]\n",
      " [12 13 14]\n",
      " [15 16 17]]\n",
      "[[18 19 20]\n",
      " [21 22 23]\n",
      " [24 25 26]]\n"
     ]
    }
   ],
   "source": [
    "for i in a3:\n",
    "    print(i)"
   ]
  },
  {
   "cell_type": "code",
   "execution_count": 44,
   "id": "b19a1a81-d023-40d2-abd2-b40497f916d0",
   "metadata": {},
   "outputs": [
    {
     "name": "stdout",
     "output_type": "stream",
     "text": [
      "0\n",
      "1\n",
      "2\n",
      "3\n",
      "4\n",
      "5\n",
      "6\n",
      "7\n",
      "8\n",
      "9\n",
      "10\n",
      "11\n",
      "12\n",
      "13\n",
      "14\n",
      "15\n",
      "16\n",
      "17\n",
      "18\n",
      "19\n",
      "20\n",
      "21\n",
      "22\n",
      "23\n",
      "24\n",
      "25\n",
      "26\n"
     ]
    }
   ],
   "source": [
    "for i in np.nditer(a3):\n",
    "    print(i)"
   ]
  },
  {
   "cell_type": "code",
   "execution_count": 46,
   "id": "360fce98-c305-4bc5-aa79-840ce7a6cd72",
   "metadata": {},
   "outputs": [
    {
     "data": {
      "text/plain": [
       "array([[ 0,  4,  8],\n",
       "       [ 1,  5,  9],\n",
       "       [ 2,  6, 10],\n",
       "       [ 3,  7, 11]])"
      ]
     },
     "execution_count": 46,
     "metadata": {},
     "output_type": "execute_result"
    }
   ],
   "source": [
    "#transpose\n",
    "np.transpose(a2)\n",
    "a2.T"
   ]
  },
  {
   "cell_type": "code",
   "execution_count": 47,
   "id": "940247fe-6321-42e7-aaf1-889a0f8f4203",
   "metadata": {},
   "outputs": [
    {
     "data": {
      "text/plain": [
       "array([ 0,  1,  2,  3,  4,  5,  6,  7,  8,  9, 10, 11, 12, 13, 14, 15, 16,\n",
       "       17, 18, 19, 20, 21, 22, 23, 24, 25, 26])"
      ]
     },
     "execution_count": 47,
     "metadata": {},
     "output_type": "execute_result"
    }
   ],
   "source": [
    "#ravel\n",
    "# convert n-D dimension array into 1D array\n",
    "a3.ravel()"
   ]
  },
  {
   "cell_type": "code",
   "execution_count": null,
   "id": "34690818-c0d8-414f-b67b-7f3209598ff0",
   "metadata": {},
   "outputs": [],
   "source": []
  }
 ],
 "metadata": {
  "kernelspec": {
   "display_name": "Python 3 (ipykernel)",
   "language": "python",
   "name": "python3"
  },
  "language_info": {
   "codemirror_mode": {
    "name": "ipython",
    "version": 3
   },
   "file_extension": ".py",
   "mimetype": "text/x-python",
   "name": "python",
   "nbconvert_exporter": "python",
   "pygments_lexer": "ipython3",
   "version": "3.12.2"
  }
 },
 "nbformat": 4,
 "nbformat_minor": 5
}
