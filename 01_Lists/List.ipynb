{
 "cells": [
  {
   "cell_type": "markdown",
   "id": "12f06aab-7462-4fba-b01c-4fbd48f8310f",
   "metadata": {},
   "source": [
    "#### List (It is one of the sequence data structure)\n",
    "1.**Ordered**\n",
    "  - Lists maintain the order of elements. The order in which you add items is the order in which they are stored.\n",
    "\n",
    "2.**Mutable**\n",
    "  - Lists are mutable(i.e. they can be change after creation)\n",
    "    \n",
    "3.**Heterogeneous Elements**\n",
    "  - Lists can contain elements of different data types, including integers, strings, floats, and even other lists.\n",
    "    \n",
    "4.**Dynamic Size**\n",
    "  - Lists can grow or shrink in size. You can add or remove elements as needed.\n",
    "    \n",
    "5.**Supports Iteration**\n",
    "  - we can iterate over the elements using loop like(for)\n",
    "     \n",
    "6.**Comprehensions**\n",
    "  - Python supports list comprehensions, which provide a concise way to create lists."
   ]
  },
  {
   "cell_type": "markdown",
   "id": "f71abecf-a41b-4ab0-a766-53714e9165e3",
   "metadata": {},
   "source": [
    "### 1.List creation"
   ]
  },
  {
   "cell_type": "code",
   "execution_count": 10,
   "id": "b12698ac-8cd5-40df-a3a8-623e724170d4",
   "metadata": {},
   "outputs": [
    {
     "data": {
      "text/plain": [
       "['hello', 'how', 'are', 'you']"
      ]
     },
     "execution_count": 10,
     "metadata": {},
     "output_type": "execute_result"
    }
   ],
   "source": [
    "my_list = [] # simply list or empty list\n",
    "my_list1 = [1,2,3,4] # list of integer\n",
    "my_list2 = ['hello','how','are','you'] # list of strings \n",
    "my_list3 = [[1,2],[3,4]] # nested list or lists of lists\n",
    "my_list4 = [8.9,'8.8',3] # list holding different datatypes \n",
    "my_list2"
   ]
  },
  {
   "cell_type": "markdown",
   "id": "833c1125-277e-476d-834b-d5bafa474bb0",
   "metadata": {},
   "source": [
    "### 2.List length (simply checks the length of the list)"
   ]
  },
  {
   "cell_type": "code",
   "execution_count": 2,
   "id": "76d2baa8-47e4-42da-8efd-78cd8e4d3151",
   "metadata": {},
   "outputs": [
    {
     "data": {
      "text/plain": [
       "4"
      ]
     },
     "execution_count": 2,
     "metadata": {},
     "output_type": "execute_result"
    }
   ],
   "source": [
    "len(my_list1)"
   ]
  },
  {
   "cell_type": "markdown",
   "id": "13381918-943d-4e8a-8cee-eeba7e02694b",
   "metadata": {},
   "source": [
    "### 3.List Append (add an element to the end of the list)"
   ]
  },
  {
   "cell_type": "code",
   "execution_count": 3,
   "id": "0e14b31f-fe45-446c-9c01-bc0ba131d8ea",
   "metadata": {},
   "outputs": [
    {
     "data": {
      "text/plain": [
       "[1, 2, 3, 4, 5]"
      ]
     },
     "execution_count": 3,
     "metadata": {},
     "output_type": "execute_result"
    }
   ],
   "source": [
    "my_list1.append(5)\n",
    "my_list1"
   ]
  },
  {
   "cell_type": "markdown",
   "id": "7438b36f-ae1a-4159-b3e8-d1a8212a956f",
   "metadata": {},
   "source": [
    "### 4.Extend (adds all the element of a list to the end of the list )"
   ]
  },
  {
   "cell_type": "code",
   "execution_count": 4,
   "id": "9c823b67-053b-438a-9eda-bb56c9773f92",
   "metadata": {},
   "outputs": [
    {
     "data": {
      "text/plain": [
       "[1, 2, 3, 4, 5, 6, 7]"
      ]
     },
     "execution_count": 4,
     "metadata": {},
     "output_type": "execute_result"
    }
   ],
   "source": [
    "my_list1.extend([6,7])\n",
    "my_list1"
   ]
  },
  {
   "cell_type": "markdown",
   "id": "0d7f1d7f-885a-4a0f-b24f-540668d2cab7",
   "metadata": {},
   "source": [
    "### 5.Insert (insert an element at a specified position)\n"
   ]
  },
  {
   "cell_type": "code",
   "execution_count": 5,
   "id": "d40b485c-b2eb-4627-88e6-57ee2e70068d",
   "metadata": {},
   "outputs": [
    {
     "data": {
      "text/plain": [
       "[8.9, '8.8', 3, 'learn everyday']"
      ]
     },
     "execution_count": 5,
     "metadata": {},
     "output_type": "execute_result"
    }
   ],
   "source": [
    "my_list4.insert(3,'learn everyday')\n",
    "my_list4"
   ]
  },
  {
   "cell_type": "markdown",
   "id": "bf8210ab-b470-4d4c-b437-7271d3d6f9c5",
   "metadata": {},
   "source": [
    "### 6.Remove (removes the first item with specified value)"
   ]
  },
  {
   "cell_type": "code",
   "execution_count": 6,
   "id": "fe919ccf-0c99-41bd-9083-3a33d4572592",
   "metadata": {},
   "outputs": [
    {
     "data": {
      "text/plain": [
       "[8.9, '8.8', 'learn everyday']"
      ]
     },
     "execution_count": 6,
     "metadata": {},
     "output_type": "execute_result"
    }
   ],
   "source": [
    "my_list4.remove(3)\n",
    "my_list4"
   ]
  },
  {
   "cell_type": "markdown",
   "id": "f3a38859-08bc-45f9-b20e-2d99b8fc286c",
   "metadata": {},
   "source": [
    "### 7.pop (removes the element at the specified position - (default value is the last one))"
   ]
  },
  {
   "cell_type": "code",
   "execution_count": 7,
   "id": "7f353576-a6b3-4e07-8358-c2332e36d630",
   "metadata": {},
   "outputs": [
    {
     "data": {
      "text/plain": [
       "[1, 3, 4, 5, 6, 7]"
      ]
     },
     "execution_count": 7,
     "metadata": {},
     "output_type": "execute_result"
    }
   ],
   "source": [
    "my_list1.pop(1)\n",
    "my_list1"
   ]
  },
  {
   "cell_type": "markdown",
   "id": "8a208ae2-70ef-4bdf-9fdd-5d40f5097ef0",
   "metadata": {},
   "source": [
    "### 8.clear (removes all the items from the list)"
   ]
  },
  {
   "cell_type": "code",
   "execution_count": 8,
   "id": "0e71ca47-4827-46d2-a77c-88053fd08d86",
   "metadata": {},
   "outputs": [
    {
     "data": {
      "text/plain": [
       "[]"
      ]
     },
     "execution_count": 8,
     "metadata": {},
     "output_type": "execute_result"
    }
   ],
   "source": [
    "my_list1.clear()\n",
    "my_list1"
   ]
  },
  {
   "cell_type": "markdown",
   "id": "540e6a3c-dc6a-44bf-a079-146b05fda07e",
   "metadata": {},
   "source": [
    "### 9.sort (sort the list in the ascending order )"
   ]
  },
  {
   "cell_type": "code",
   "execution_count": 12,
   "id": "ce77a085-d5ce-415b-94f2-5997b138ba80",
   "metadata": {},
   "outputs": [
    {
     "data": {
      "text/plain": [
       "[1, 2, 3, 4]"
      ]
     },
     "execution_count": 12,
     "metadata": {},
     "output_type": "execute_result"
    }
   ],
   "source": [
    "my_list1.sort()\n",
    "my_list1"
   ]
  },
  {
   "cell_type": "markdown",
   "id": "dab47d20-9134-4af3-9afb-12c5885d2f39",
   "metadata": {},
   "source": [
    "### 10.reverse (simply reverse the list)"
   ]
  },
  {
   "cell_type": "code",
   "execution_count": 14,
   "id": "bee8ccd6-2066-4baa-b40b-3cb28ce0dde4",
   "metadata": {},
   "outputs": [
    {
     "data": {
      "text/plain": [
       "[4, 3, 2, 1]"
      ]
     },
     "execution_count": 14,
     "metadata": {},
     "output_type": "execute_result"
    }
   ],
   "source": [
    "my_list1.reverse()\n",
    "my_list1"
   ]
  },
  {
   "cell_type": "markdown",
   "id": "51253fe2-0d9d-433e-ad72-1bcc10bbc926",
   "metadata": {},
   "source": [
    "### 11.Copy (Returns the copy of the list)"
   ]
  },
  {
   "cell_type": "code",
   "execution_count": 15,
   "id": "66c29f19-7891-4793-a155-4d2ee7de6116",
   "metadata": {},
   "outputs": [
    {
     "data": {
      "text/plain": [
       "[4, 3, 2, 1]"
      ]
     },
     "execution_count": 15,
     "metadata": {},
     "output_type": "execute_result"
    }
   ],
   "source": [
    "copy_list = my_list1.copy()\n",
    "copy_list"
   ]
  },
  {
   "cell_type": "markdown",
   "id": "2c7445ca-ea5b-42cb-9c08-5cbaf7ce398c",
   "metadata": {},
   "source": [
    "### List having multiple references (changing in one list can change another list too)"
   ]
  },
  {
   "cell_type": "code",
   "execution_count": 16,
   "id": "08be9c46-440f-450b-9f35-11dfb5b31882",
   "metadata": {},
   "outputs": [
    {
     "name": "stdout",
     "output_type": "stream",
     "text": [
      "original list: [1, 2, 3, 4, 5, 6]\n",
      "new list : [1, 2, 3, 4, 5, 6]\n"
     ]
    }
   ],
   "source": [
    "list1 = [1,2,3,4,5]\n",
    "list2 = list1\n",
    "list2.append(6)\n",
    "\n",
    "print(f\"original list: {list1}\")\n",
    "print(f\"new list : {list2}\")"
   ]
  },
  {
   "cell_type": "markdown",
   "id": "14a211b6-6a48-4837-9a24-8244d419b822",
   "metadata": {},
   "source": [
    "### splitting strings to create a list"
   ]
  },
  {
   "cell_type": "code",
   "execution_count": 22,
   "id": "346c2c34-ad12-4f56-b8e8-f75703038bf6",
   "metadata": {},
   "outputs": [
    {
     "data": {
      "text/plain": [
       "['Believe in yourself']"
      ]
     },
     "execution_count": 22,
     "metadata": {},
     "output_type": "execute_result"
    }
   ],
   "source": [
    "str = 'Believe in yourself'\n",
    "str2 = str.split(',')\n",
    "str2"
   ]
  },
  {
   "cell_type": "markdown",
   "id": "155ad9f3-69c0-45cd-a137-bf622a9484a7",
   "metadata": {},
   "source": [
    "### indexing and slicing"
   ]
  },
  {
   "cell_type": "code",
   "execution_count": 25,
   "id": "df13a331-b8f8-41eb-8ed2-e4486f6c0bc6",
   "metadata": {},
   "outputs": [
    {
     "name": "stdout",
     "output_type": "stream",
     "text": [
      "[1, 2, 3, 4, 5, 6, 7, 8, 9, 10]\n",
      "[1, 2, 3, 4, 5, 6]\n"
     ]
    }
   ],
   "source": [
    "list = [1,2,3,4,5,6,7,8,9,10]\n",
    "print(list[:])\n",
    "print(list[:6])"
   ]
  },
  {
   "cell_type": "markdown",
   "id": "a2865d88-8b86-44e3-b818-1c7c08cb75ee",
   "metadata": {},
   "source": [
    "### list concatenation"
   ]
  },
  {
   "cell_type": "code",
   "execution_count": 28,
   "id": "54971ff0-5710-4997-8b6e-41a981ef6228",
   "metadata": {},
   "outputs": [
    {
     "data": {
      "text/plain": [
       "[10, 7, 8, 9, 'my name is prajun']"
      ]
     },
     "execution_count": 28,
     "metadata": {},
     "output_type": "execute_result"
    }
   ],
   "source": [
    "list = [10,7,8,9]\n",
    "list2 = ['my name is prajun']\n",
    "result = list + list2\n",
    "result"
   ]
  },
  {
   "cell_type": "markdown",
   "id": "a0174c92-9fe8-4786-b4e2-3ef07a4cab6a",
   "metadata": {},
   "source": [
    "### List comprehensions"
   ]
  },
  {
   "cell_type": "code",
   "execution_count": 29,
   "id": "4f8dbaa7-57a7-455e-bfa2-7698b1c19666",
   "metadata": {},
   "outputs": [
    {
     "name": "stdout",
     "output_type": "stream",
     "text": [
      "[1, 4, 9, 16, 25, 36, 49, 64, 81, 100]\n"
     ]
    }
   ],
   "source": [
    "# without list comprehensions\n",
    "squares = []\n",
    "for i in range(1,11):\n",
    "    squares.append(i**2)\n",
    "print(squares)"
   ]
  },
  {
   "cell_type": "code",
   "execution_count": 30,
   "id": "a6050af7-528f-4935-9a88-23d0710d9e45",
   "metadata": {},
   "outputs": [
    {
     "name": "stdout",
     "output_type": "stream",
     "text": [
      "[1, 4, 9, 16, 25, 36, 49, 64, 81, 100]\n"
     ]
    }
   ],
   "source": [
    "# using list commprehensions\n",
    "squares = [i**2 for i in range(1,11)]\n",
    "print(squares)"
   ]
  },
  {
   "cell_type": "code",
   "execution_count": 33,
   "id": "c8b52ce3-977a-4f26-b065-acbca410981e",
   "metadata": {},
   "outputs": [
    {
     "name": "stdout",
     "output_type": "stream",
     "text": [
      "[2, 4, 6, 8, 10]\n"
     ]
    }
   ],
   "source": [
    "# filtering even numbers without list comprehensions\n",
    "evens = []\n",
    "for num in range(1,11):\n",
    "    if num%2 == 0:\n",
    "        evens.append(num)\n",
    "    else:\n",
    "        None\n",
    "print(evens)"
   ]
  },
  {
   "cell_type": "code",
   "execution_count": 35,
   "id": "0a288ad3-4696-47b4-830f-ac350e0e94ab",
   "metadata": {},
   "outputs": [
    {
     "name": "stdout",
     "output_type": "stream",
     "text": [
      "[2, 4, 6, 8, 10]\n"
     ]
    }
   ],
   "source": [
    "# filtering even numbers with list comprehensions\n",
    "evens = [i for i in range(1,11) if i%2==0]\n",
    "print(evens)"
   ]
  },
  {
   "cell_type": "code",
   "execution_count": null,
   "id": "86f0e99a-d39a-41a7-98b1-6a20f2490307",
   "metadata": {},
   "outputs": [],
   "source": []
  }
 ],
 "metadata": {
  "kernelspec": {
   "display_name": "Python 3 (ipykernel)",
   "language": "python",
   "name": "python3"
  },
  "language_info": {
   "codemirror_mode": {
    "name": "ipython",
    "version": 3
   },
   "file_extension": ".py",
   "mimetype": "text/x-python",
   "name": "python",
   "nbconvert_exporter": "python",
   "pygments_lexer": "ipython3",
   "version": "3.12.2"
  }
 },
 "nbformat": 4,
 "nbformat_minor": 5
}
