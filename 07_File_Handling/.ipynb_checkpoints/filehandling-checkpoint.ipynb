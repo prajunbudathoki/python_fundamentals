{
 "cells": [
  {
   "cell_type": "markdown",
   "id": "c69cafd2-28fe-4a9e-9c64-18beae074625",
   "metadata": {},
   "source": [
    "# File I/O\n",
    "File is a named location on disk to store related information.It is used to store permanently data for future use.\n",
    "\n",
    "### FILE Operations\n",
    "1. Open a file\n",
    "2. Read or Write\n",
    "3. Close the file "
   ]
  },
  {
   "cell_type": "markdown",
   "id": "e90675dc-a598-42af-b77c-76af05ac375e",
   "metadata": {},
   "source": [
    "# Opening a file "
   ]
  },
  {
   "cell_type": "code",
   "execution_count": 1,
   "id": "28a21b0b-95e5-40c7-af12-0d468a876d91",
   "metadata": {},
   "outputs": [],
   "source": [
    "file = open('sample.txt')"
   ]
  },
  {
   "cell_type": "markdown",
   "id": "26c259c8-5694-4e72-a283-053dd4ca363f",
   "metadata": {},
   "source": [
    "# FILE Modes\n",
    "\n",
    "1. 'r' open a file for reading(default)\n",
    "2. 'w' Open a file for writing.Creates a new file if it doesnot exists or truncates the file if it exists.\n",
    "3. 'x' Open a file for exclusive creation. If the file already exists, the operation fails\n",
    "4. 'a' Open for appending at the end of the file without truncating it. Creates a new file if it does not exists.\n",
    "5. 't' Open in text mode. (default)\n",
    "6. 'b' Open in binary mode.\n",
    "7. '+' Open a file for updating (reading and writing)"
   ]
  },
  {
   "cell_type": "code",
   "execution_count": 14,
   "id": "ae473d8b-fb77-4fef-9648-abfd1494b4c8",
   "metadata": {},
   "outputs": [],
   "source": [
    "f = open('sample.txt')\n",
    "f = open('example.txt','w')"
   ]
  },
  {
   "cell_type": "markdown",
   "id": "05e26b13-a0a8-4621-bfc8-8c055dce669a",
   "metadata": {},
   "source": [
    "# Closing a file"
   ]
  },
  {
   "cell_type": "code",
   "execution_count": 5,
   "id": "5afcc309-27c6-4832-80f8-7e6d785a1807",
   "metadata": {},
   "outputs": [],
   "source": [
    "f.close()"
   ]
  },
  {
   "cell_type": "markdown",
   "id": "a752e2e8-46b1-46f4-b2af-b7f9a25b9537",
   "metadata": {},
   "source": [
    "Close method is not entirely safe to use if any exception occur while performing operation on the file,the code exists without closing the file\n",
    "\n",
    "Another way to approach this problem is to use try finally block"
   ]
  },
  {
   "cell_type": "code",
   "execution_count": 6,
   "id": "cdf91299-75bd-479b-b493-c29fe299fb64",
   "metadata": {},
   "outputs": [],
   "source": [
    "try:\n",
    "    f = open('sample.txt')\n",
    "finally:\n",
    "    f.close()"
   ]
  },
  {
   "cell_type": "markdown",
   "id": "3f638e42-0836-4728-b893-d56d2bb3b472",
   "metadata": {},
   "source": [
    "# Writing to file "
   ]
  },
  {
   "cell_type": "code",
   "execution_count": 17,
   "id": "5f7d23b8-a5e9-4b97-83c2-9b8223b9c91b",
   "metadata": {},
   "outputs": [],
   "source": [
    "with open('sample.txt','w') as f:\n",
    "    f.write('This line is added')"
   ]
  },
  {
   "cell_type": "markdown",
   "id": "252ce401-3928-4fc7-89ac-ca1c1a8562d0",
   "metadata": {},
   "source": [
    "# Reading from a file"
   ]
  },
  {
   "cell_type": "code",
   "execution_count": 18,
   "id": "f78ca2f0-57bb-45f3-a41c-fd4c0953037d",
   "metadata": {},
   "outputs": [
    {
     "data": {
      "text/plain": [
       "'This line is added'"
      ]
     },
     "execution_count": 18,
     "metadata": {},
     "output_type": "execute_result"
    }
   ],
   "source": [
    "f = open('sample.txt','r')\n",
    "f.read()"
   ]
  },
  {
   "cell_type": "code",
   "execution_count": 22,
   "id": "c7ae3d95-e395-4c9d-922a-d5adef78db7d",
   "metadata": {},
   "outputs": [
    {
     "data": {
      "text/plain": [
       "'this'"
      ]
     },
     "execution_count": 22,
     "metadata": {},
     "output_type": "execute_result"
    }
   ],
   "source": [
    "f = open('example.txt','r')\n",
    "f.read(4)"
   ]
  },
  {
   "cell_type": "code",
   "execution_count": 23,
   "id": "d44de120-c4cb-480d-9e99-eec4995f9265",
   "metadata": {},
   "outputs": [
    {
     "data": {
      "text/plain": [
       "' is example file'"
      ]
     },
     "execution_count": 23,
     "metadata": {},
     "output_type": "execute_result"
    }
   ],
   "source": [
    "f.readline()"
   ]
  },
  {
   "cell_type": "code",
   "execution_count": null,
   "id": "33527ddc-ff68-42dc-8c10-ac4c3775386b",
   "metadata": {},
   "outputs": [],
   "source": []
  }
 ],
 "metadata": {
  "kernelspec": {
   "display_name": "Python 3 (ipykernel)",
   "language": "python",
   "name": "python3"
  },
  "language_info": {
   "codemirror_mode": {
    "name": "ipython",
    "version": 3
   },
   "file_extension": ".py",
   "mimetype": "text/x-python",
   "name": "python",
   "nbconvert_exporter": "python",
   "pygments_lexer": "ipython3",
   "version": "3.12.2"
  }
 },
 "nbformat": 4,
 "nbformat_minor": 5
}
