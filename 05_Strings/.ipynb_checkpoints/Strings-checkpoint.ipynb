{
 "cells": [
  {
   "cell_type": "markdown",
   "id": "4bfcf198-629a-47e0-a0f3-71416e8bd01f",
   "metadata": {},
   "source": [
    "# Strings\n",
    "    - string is a sequence of characters \n",
    "    - In python,it is a sequence of unicode character\n",
    "    - They are immutable it means they cannot be changed once they are assigned"
   ]
  },
  {
   "cell_type": "markdown",
   "id": "1b7e62b7-1d24-47e3-a620-ec389f10f97d",
   "metadata": {},
   "source": [
    "## Acessing character in a string "
   ]
  },
  {
   "cell_type": "code",
   "execution_count": 1,
   "id": "52572098-2b4d-42c4-9b38-75d24b757702",
   "metadata": {},
   "outputs": [
    {
     "name": "stdout",
     "output_type": "stream",
     "text": [
      "p\n",
      "praj\n"
     ]
    }
   ],
   "source": [
    "str_1 = 'prajun budhthoki'\n",
    "print(str_1[0])\n",
    "print(str_1[0:4])"
   ]
  },
  {
   "cell_type": "markdown",
   "id": "457ec501-37ca-4b5e-8ee8-71cc32c65978",
   "metadata": {},
   "source": [
    "## String concatenation"
   ]
  },
  {
   "cell_type": "code",
   "execution_count": 3,
   "id": "6496c736-42fe-40e8-b985-f8f629b9033d",
   "metadata": {},
   "outputs": [
    {
     "name": "stdout",
     "output_type": "stream",
     "text": [
      "hello world\n"
     ]
    }
   ],
   "source": [
    "s1 = 'hello '\n",
    "s2 = 'world'\n",
    "print(s1 + s2)"
   ]
  },
  {
   "cell_type": "markdown",
   "id": "408d9fe6-b607-4e11-ac0b-dd356fd6aeac",
   "metadata": {},
   "source": [
    "## Iterating over strings"
   ]
  },
  {
   "cell_type": "code",
   "execution_count": 7,
   "id": "d70b3ff4-b9eb-4913-a989-7eca676757b6",
   "metadata": {},
   "outputs": [
    {
     "name": "stdout",
     "output_type": "stream",
     "text": [
      "letter 'a' has been found 3 times\n"
     ]
    }
   ],
   "source": [
    "total = 0\n",
    "s1 = 'ramu maya'\n",
    "for s in s1:\n",
    "    if s == 'a':\n",
    "        total += 1\n",
    "print(f\"letter 'a' has been found {total} times\")"
   ]
  },
  {
   "cell_type": "markdown",
   "id": "ab6487c9-50b7-4111-99d2-b99af0e7ee71",
   "metadata": {},
   "source": [
    "# String membership"
   ]
  },
  {
   "cell_type": "code",
   "execution_count": 8,
   "id": "652934f7-ae12-4dbc-8ec1-b7834a24b7d3",
   "metadata": {},
   "outputs": [
    {
     "name": "stdout",
     "output_type": "stream",
     "text": [
      "True\n"
     ]
    }
   ],
   "source": [
    "print('a' in 'prajun')"
   ]
  },
  {
   "cell_type": "code",
   "execution_count": 9,
   "id": "fa9dd83e-166e-4c58-976a-d77aa186a358",
   "metadata": {},
   "outputs": [
    {
     "name": "stdout",
     "output_type": "stream",
     "text": [
      "False\n"
     ]
    }
   ],
   "source": [
    "print('d' in 'prajun')"
   ]
  },
  {
   "cell_type": "markdown",
   "id": "80e596e6-19a8-4534-9fb9-74c23c7cf249",
   "metadata": {},
   "source": [
    "# String Methods"
   ]
  },
  {
   "cell_type": "code",
   "execution_count": 11,
   "id": "75c0426a-55d7-4ca8-980a-5ecf68b2a089",
   "metadata": {},
   "outputs": [
    {
     "name": "stdout",
     "output_type": "stream",
     "text": [
      "maalaa\n"
     ]
    }
   ],
   "source": [
    "str_1 = 'MaALaA'\n",
    "print(str_1.lower())"
   ]
  },
  {
   "cell_type": "code",
   "execution_count": 13,
   "id": "26bcc749-a00d-4cfd-aedf-ac543cf1e7ff",
   "metadata": {},
   "outputs": [
    {
     "name": "stdout",
     "output_type": "stream",
     "text": [
      "MAALAA\n"
     ]
    }
   ],
   "source": [
    "print(str_1.upper())"
   ]
  },
  {
   "cell_type": "code",
   "execution_count": 14,
   "id": "d6bf973a-0c91-4323-8a95-43651d01a7a7",
   "metadata": {},
   "outputs": [
    {
     "name": "stdout",
     "output_type": "stream",
     "text": [
      "['hello', 'how', 'are', 'you']\n"
     ]
    }
   ],
   "source": [
    "# splitting a string into list\n",
    "s1 = 'hello how are you'\n",
    "print(s1.split())"
   ]
  },
  {
   "cell_type": "code",
   "execution_count": 23,
   "id": "a86a9b31-7736-45ab-94d7-7de47dde6223",
   "metadata": {},
   "outputs": [
    {
     "data": {
      "text/plain": [
       "'This will join all words in a single string'"
      ]
     },
     "execution_count": 23,
     "metadata": {},
     "output_type": "execute_result"
    }
   ],
   "source": [
    "# joining a list into a string\n",
    "' '.join(['This', 'will', 'join', 'all', 'words', 'in', 'a', 'single', 'string'])"
   ]
  },
  {
   "cell_type": "code",
   "execution_count": 24,
   "id": "47d297fc-f73c-4eac-8b8a-81d309410471",
   "metadata": {},
   "outputs": [
    {
     "data": {
      "text/plain": [
       "'malai lagxa darr'"
      ]
     },
     "execution_count": 24,
     "metadata": {},
     "output_type": "execute_result"
    }
   ],
   "source": [
    "\"malai lagdaina darr\".replace('lagdaina','lagxa')"
   ]
  },
  {
   "cell_type": "code",
   "execution_count": 43,
   "id": "3e57137e-a7f0-4258-9675-e408a6df7d50",
   "metadata": {},
   "outputs": [
    {
     "name": "stdout",
     "output_type": "stream",
     "text": [
      "string is palindrome\n"
     ]
    }
   ],
   "source": [
    "# checking given string is palindrome or not\n",
    "my_str = 'Madam'\n",
    "rev_str = ''.join(reversed(my_str)).lower()\n",
    "if my_str.lower() == rev_str:\n",
    "    print('string is palindrome')\n",
    "else:\n",
    "    print('string is not palindrome')"
   ]
  },
  {
   "cell_type": "markdown",
   "id": "f68b6a6e-2091-4e7d-96eb-9bc95a37e937",
   "metadata": {},
   "source": [
    "# sort words in alphabetical order"
   ]
  },
  {
   "cell_type": "code",
   "execution_count": 49,
   "id": "7a0beb15-e98a-4d89-9d4e-bf2c094fa6b9",
   "metadata": {},
   "outputs": [
    {
     "name": "stdout",
     "output_type": "stream",
     "text": [
      "and\n",
      "consistency\n",
      "is\n",
      "key\n",
      "practice\n",
      "success\n",
      "the\n",
      "to\n"
     ]
    }
   ],
   "source": [
    "my_str = 'practice and consistency is the key to success '\n",
    "words = my_str.split()\n",
    "\n",
    "words.sort()\n",
    "for word in words:\n",
    "    print(word)"
   ]
  },
  {
   "cell_type": "code",
   "execution_count": null,
   "id": "82ba1105-880c-4603-b8b1-4c75a2937ed9",
   "metadata": {},
   "outputs": [],
   "source": []
  },
  {
   "cell_type": "code",
   "execution_count": null,
   "id": "a89e94be-3c83-4768-99a6-d0226ec97456",
   "metadata": {},
   "outputs": [],
   "source": []
  },
  {
   "cell_type": "code",
   "execution_count": null,
   "id": "3e614800-2a5e-445e-aee3-bb83c087b2b1",
   "metadata": {},
   "outputs": [],
   "source": []
  },
  {
   "cell_type": "code",
   "execution_count": null,
   "id": "0007a3f3-d136-4182-8ced-2c526ebc5f9c",
   "metadata": {},
   "outputs": [],
   "source": []
  }
 ],
 "metadata": {
  "kernelspec": {
   "display_name": "Python 3 (ipykernel)",
   "language": "python",
   "name": "python3"
  },
  "language_info": {
   "codemirror_mode": {
    "name": "ipython",
    "version": 3
   },
   "file_extension": ".py",
   "mimetype": "text/x-python",
   "name": "python",
   "nbconvert_exporter": "python",
   "pygments_lexer": "ipython3",
   "version": "3.12.2"
  }
 },
 "nbformat": 4,
 "nbformat_minor": 5
}
