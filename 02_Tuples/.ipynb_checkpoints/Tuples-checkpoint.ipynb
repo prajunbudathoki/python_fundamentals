{
 "cells": [
  {
   "cell_type": "markdown",
   "id": "3586e6cc-b38b-449d-a4db-6c9ed8df8798",
   "metadata": {},
   "source": [
    "### Tuples\n",
    "    - The differences between tuple and list are:\n",
    "        - Tuples are immutable once they are assigned\n",
    "        - Lists have more built-in methods compared to tuples, given their mutable nature.\n",
    "        - Tuples are created using '()' where lists are created using '[]'"
   ]
  },
  {
   "cell_type": "markdown",
   "id": "39a9a701-9c17-4b9b-b5b5-8ee6cbb10af4",
   "metadata": {},
   "source": [
    "### Tuples creation"
   ]
  },
  {
   "cell_type": "code",
   "execution_count": 2,
   "id": "ef41e05b-19ae-46ac-b094-4561b497d36f",
   "metadata": {},
   "outputs": [
    {
     "name": "stdout",
     "output_type": "stream",
     "text": [
      "(1, (2, 3), [4, 5])\n"
     ]
    }
   ],
   "source": [
    "# empty tuple\n",
    "t = ()\n",
    "# or\n",
    "t = tuple()\n",
    "\n",
    "\n",
    "# tuples with mixed datatypes\n",
    "t = (1,\"andrew\",5.6)\n",
    "\n",
    "# nested tuples\n",
    "t = (1,(2,3),[4,5])\n",
    "print(t)"
   ]
  },
  {
   "cell_type": "markdown",
   "id": "1a0f1017-cd77-4227-932e-1f7edd9b7cf9",
   "metadata": {},
   "source": [
    "### Acessing tuple elements\n"
   ]
  },
  {
   "cell_type": "code",
   "execution_count": 5,
   "id": "b86bb9ec-69d0-4892-8321-bce868f3d35b",
   "metadata": {},
   "outputs": [
    {
     "name": "stdout",
     "output_type": "stream",
     "text": [
      "world\n"
     ]
    }
   ],
   "source": [
    "t = ('hello','world')\n",
    "print(t[1])"
   ]
  },
  {
   "cell_type": "code",
   "execution_count": 9,
   "id": "3ba7107f-8315-431c-9df5-976c3505a1c7",
   "metadata": {},
   "outputs": [
    {
     "name": "stdout",
     "output_type": "stream",
     "text": [
      "is\n"
     ]
    }
   ],
   "source": [
    "# nested tuple\n",
    "t = ('My',('name','is'),'prajun')\n",
    "print(t[1][1])"
   ]
  },
  {
   "cell_type": "code",
   "execution_count": 11,
   "id": "ed64ce22-d90d-4496-a3a4-41b12b97e158",
   "metadata": {},
   "outputs": [
    {
     "name": "stdout",
     "output_type": "stream",
     "text": [
      "(1, 2, 3, 4, 5)\n"
     ]
    }
   ],
   "source": [
    "# slicing same works as list\n",
    "t = (1,2,3,4,5,6,7,8)\n",
    "print(t[0:5])"
   ]
  },
  {
   "cell_type": "markdown",
   "id": "b0a84001-4d78-4012-87fc-1382131de0b7",
   "metadata": {},
   "source": [
    "### Changing tuple in python \n",
    "    - Unlike list tuple are immutable\n",
    "    - which means tuple cannot be changed once they are assigned.But if the datatypes is itself is mutable then it can be changed"
   ]
  },
  {
   "cell_type": "code",
   "execution_count": 5,
   "id": "85c39786-7af1-44d1-ae67-ff2faf49ff90",
   "metadata": {},
   "outputs": [
    {
     "name": "stdout",
     "output_type": "stream",
     "text": [
      "(0, 1, 2, 3, 4, 5, [6, 'p'])\n"
     ]
    }
   ],
   "source": [
    "t = (0,1,2,3,4,5,[6,7])\n",
    "t[6][1] = 'p'\n",
    "print(t)"
   ]
  },
  {
   "cell_type": "code",
   "execution_count": 6,
   "id": "b621cb88-e151-4fbc-a1f7-9c3e5d24df3b",
   "metadata": {},
   "outputs": [
    {
     "name": "stdout",
     "output_type": "stream",
     "text": [
      "(1, 2, 3, 4, 5, 6)\n"
     ]
    }
   ],
   "source": [
    "# concatenating the tuples\n",
    "t = (1,2,3) + (4,5,6)\n",
    "print(t)"
   ]
  },
  {
   "cell_type": "code",
   "execution_count": 9,
   "id": "46f99216-b353-460a-9293-c49fa5a0c582",
   "metadata": {},
   "outputs": [
    {
     "name": "stdout",
     "output_type": "stream",
     "text": [
      "('hello', 'hello', 'hello', 'hello', 'hello')\n"
     ]
    }
   ],
   "source": [
    "# repeating number of elements in a tuple for a given number of times using the * operator\n",
    "t = (('hello',)*5)\n",
    "print(t)"
   ]
  },
  {
   "cell_type": "markdown",
   "id": "18fb100c-3e43-4a71-9e8b-f1fc6a344a40",
   "metadata": {},
   "source": [
    "### Tuple deletion "
   ]
  },
  {
   "cell_type": "code",
   "execution_count": 12,
   "id": "358d6009-1152-4120-a012-1d1c67238e39",
   "metadata": {},
   "outputs": [],
   "source": [
    "# as we know the tuple are immutable which means we cannot delete or remove the items from the tuple\n",
    "\n",
    "# deleting entire tuple using del keyword\n",
    "t = (1,2,3,4,5)\n",
    "del t"
   ]
  },
  {
   "cell_type": "code",
   "execution_count": 13,
   "id": "859c959b-0f2a-4b7d-869d-4cb0830027d8",
   "metadata": {},
   "outputs": [
    {
     "data": {
      "text/plain": [
       "3"
      ]
     },
     "execution_count": 13,
     "metadata": {},
     "output_type": "execute_result"
    }
   ],
   "source": [
    "# couting the elements in tuple using count built in functions\n",
    "t = (1,1,1,2,3,4,5)\n",
    "t.count(1)"
   ]
  },
  {
   "cell_type": "code",
   "execution_count": 15,
   "id": "8062cfb5-bd8a-4757-a290-f6f227781cd4",
   "metadata": {},
   "outputs": [
    {
     "name": "stdout",
     "output_type": "stream",
     "text": [
      "0\n"
     ]
    }
   ],
   "source": [
    "# tuple index\n",
    "t = (1,2,3,5,6)\n",
    "print(t.index(1))  # returns the index position of 1 "
   ]
  },
  {
   "cell_type": "markdown",
   "id": "91f39cff-6200-458a-a101-3238ee246a32",
   "metadata": {},
   "source": [
    "## Tuple sort"
   ]
  },
  {
   "cell_type": "code",
   "execution_count": 17,
   "id": "4766c912-bc1f-4203-a258-ee816f6a4bb9",
   "metadata": {},
   "outputs": [
    {
     "name": "stdout",
     "output_type": "stream",
     "text": [
      "[1, 2, 3, 4, 5, 7]\n"
     ]
    }
   ],
   "source": [
    "t = (3,4,5,7,2,1)\n",
    "t2 = sorted(t) # takes the element and returns the new tuple \n",
    "print(t2)"
   ]
  },
  {
   "cell_type": "code",
   "execution_count": 18,
   "id": "417c6112-4d7b-4e1d-b338-2e401e8caa0f",
   "metadata": {},
   "outputs": [
    {
     "name": "stdout",
     "output_type": "stream",
     "text": [
      "7\n",
      "1\n",
      "22\n"
     ]
    }
   ],
   "source": [
    "print(max(t))\n",
    "print(min(t))\n",
    "print(sum(t))"
   ]
  },
  {
   "cell_type": "code",
   "execution_count": null,
   "id": "d0a1c550-36c3-4612-a3e9-126fca7540f7",
   "metadata": {},
   "outputs": [],
   "source": []
  }
 ],
 "metadata": {
  "kernelspec": {
   "display_name": "Python 3 (ipykernel)",
   "language": "python",
   "name": "python3"
  },
  "language_info": {
   "codemirror_mode": {
    "name": "ipython",
    "version": 3
   },
   "file_extension": ".py",
   "mimetype": "text/x-python",
   "name": "python",
   "nbconvert_exporter": "python",
   "pygments_lexer": "ipython3",
   "version": "3.12.2"
  }
 },
 "nbformat": 4,
 "nbformat_minor": 5
}
