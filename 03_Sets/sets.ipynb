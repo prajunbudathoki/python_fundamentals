{
 "cells": [
  {
   "cell_type": "markdown",
   "id": "4b531dad-5997-4eec-b9ce-cd5664c76ab3",
   "metadata": {
    "jp-MarkdownHeadingCollapsed": true
   },
   "source": [
    "# Sets \n",
    "    - A set is a collection of unique items. It's is like list but doesnot allow duplicate items which means every item is unique\n",
    "    - It is mutable\n",
    "    - Doesnot have any ordered"
   ]
  },
  {
   "cell_type": "markdown",
   "id": "7dd91259-e7eb-48af-a059-d5474899271d",
   "metadata": {},
   "source": [
    "# set creation"
   ]
  },
  {
   "cell_type": "code",
   "execution_count": 1,
   "id": "a68df77f-3a35-4c95-8559-0dc9e6b80052",
   "metadata": {},
   "outputs": [
    {
     "name": "stdout",
     "output_type": "stream",
     "text": [
      "{1, 2, 3, 4}\n"
     ]
    }
   ],
   "source": [
    "s = {1,2,3,4}\n",
    "print(s)"
   ]
  },
  {
   "cell_type": "code",
   "execution_count": 3,
   "id": "245b324b-9712-45c0-aa28-b0e597957940",
   "metadata": {},
   "outputs": [
    {
     "name": "stdout",
     "output_type": "stream",
     "text": [
      "{1, 2, 3, 4, 5, 6}\n"
     ]
    }
   ],
   "source": [
    "# set doesnot allow duplicates items\n",
    "s = {1,2,3,3,4,5,6}\n",
    "print(s)"
   ]
  },
  {
   "cell_type": "code",
   "execution_count": 4,
   "id": "d2c2e322-617a-482f-ba20-bc490285ca49",
   "metadata": {},
   "outputs": [
    {
     "name": "stdout",
     "output_type": "stream",
     "text": [
      "{1, 2, 3, 4, 5}\n"
     ]
    }
   ],
   "source": [
    "# making set from a list \n",
    "s = set([1,2,3,4,5])\n",
    "print(s)"
   ]
  },
  {
   "cell_type": "markdown",
   "id": "a447b2a3-dce4-40e0-9847-16449dd353e9",
   "metadata": {},
   "source": [
    "# Adding element to the sets"
   ]
  },
  {
   "cell_type": "code",
   "execution_count": 8,
   "id": "fb2b0b6c-b919-4eb4-9b70-72a9c7092309",
   "metadata": {},
   "outputs": [
    {
     "name": "stdout",
     "output_type": "stream",
     "text": [
      "{1, 2, 3, 4, 5}\n"
     ]
    }
   ],
   "source": [
    "# set is unordered elements so it cannot be indexed as list or tuple\n",
    "\n",
    "s = {1,2,3,4}\n",
    "s.add(5)\n",
    "print(s)"
   ]
  },
  {
   "cell_type": "code",
   "execution_count": 10,
   "id": "e11c1ad8-ae0d-42c4-8be5-fb27976681cf",
   "metadata": {},
   "outputs": [
    {
     "name": "stdout",
     "output_type": "stream",
     "text": [
      "{1, 2, 3, 4, 6, 7}\n"
     ]
    }
   ],
   "source": [
    "s.update([6,7])\n",
    "print(s)"
   ]
  },
  {
   "cell_type": "code",
   "execution_count": 11,
   "id": "2ae14c76-661e-4bf1-9c9a-c81592f07df2",
   "metadata": {},
   "outputs": [
    {
     "name": "stdout",
     "output_type": "stream",
     "text": [
      "{1, 2, 3, 4, 6, 7, 8, 9, 10, 11}\n"
     ]
    }
   ],
   "source": [
    "s.update([8,9],{10,11})\n",
    "print(s)"
   ]
  },
  {
   "cell_type": "markdown",
   "id": "2179e53b-0ea2-49b7-9a27-72c33630bfe4",
   "metadata": {},
   "source": [
    "# Remove elements from the sets"
   ]
  },
  {
   "cell_type": "code",
   "execution_count": 12,
   "id": "f7a403be-c7f7-4cad-8c9e-92b5698d7733",
   "metadata": {},
   "outputs": [
    {
     "name": "stdout",
     "output_type": "stream",
     "text": [
      "{1, 2, 3, 4, 5}\n"
     ]
    }
   ],
   "source": [
    "s = {1,2,3,4,5,6}\n",
    "s.remove(6)\n",
    "print(s)"
   ]
  },
  {
   "cell_type": "code",
   "execution_count": 13,
   "id": "525854d2-5673-4217-859b-a6da281759e0",
   "metadata": {},
   "outputs": [
    {
     "name": "stdout",
     "output_type": "stream",
     "text": [
      "{2, 3, 4, 5}\n"
     ]
    }
   ],
   "source": [
    "s.discard(1)\n",
    "print(s)"
   ]
  },
  {
   "cell_type": "markdown",
   "id": "8283e1bf-0d8b-439c-a5b5-9622696ca258",
   "metadata": {},
   "source": [
    "### differences between remove and discard\n",
    "    - remove() : removes the specified elements from the sets.If the element is not found it raises an key Error\n",
    "    - discard() : removes the specified elements from the sets.If the element is not found it doesnot raises key Error"
   ]
  },
  {
   "cell_type": "markdown",
   "id": "1d06857a-54db-41eb-8fe9-e4e2d4e53c20",
   "metadata": {},
   "source": [
    "# Set Operations"
   ]
  },
  {
   "cell_type": "code",
   "execution_count": 15,
   "id": "3972ee36-c2a7-4fb2-9452-fb04fd6de17a",
   "metadata": {},
   "outputs": [
    {
     "name": "stdout",
     "output_type": "stream",
     "text": [
      "{1, 2, 3, 4, 5, 6, 7, 8}\n"
     ]
    }
   ],
   "source": [
    "s1 = {1,2,3,4,5}\n",
    "s2 = {6,7,8}\n",
    "# union of two sets using | operator\n",
    "print(s1|s2)"
   ]
  },
  {
   "cell_type": "code",
   "execution_count": 16,
   "id": "4f89e54a-49d1-439c-96c0-cf34e9a2d461",
   "metadata": {},
   "outputs": [
    {
     "name": "stdout",
     "output_type": "stream",
     "text": [
      "{1, 2, 3, 4, 5, 6, 7, 8}\n"
     ]
    }
   ],
   "source": [
    "# another method of getting union sets \n",
    "print(s1.union(s2))"
   ]
  },
  {
   "cell_type": "code",
   "execution_count": 20,
   "id": "0b4246fa-ea70-4566-9c6a-f9e82fcb85e5",
   "metadata": {},
   "outputs": [
    {
     "name": "stdout",
     "output_type": "stream",
     "text": [
      "{1}\n"
     ]
    }
   ],
   "source": [
    "# intersection of two sets \n",
    "s1 = {1,2,3}\n",
    "s2 = {1,5,6}\n",
    "print(s1 & s2)"
   ]
  },
  {
   "cell_type": "code",
   "execution_count": 21,
   "id": "66722051-e77e-4152-a18d-daee0d3be9ba",
   "metadata": {},
   "outputs": [
    {
     "name": "stdout",
     "output_type": "stream",
     "text": [
      "{1}\n"
     ]
    }
   ],
   "source": [
    "# another method of getting intersection of two sets \n",
    "print(s1.intersection(s2))"
   ]
  },
  {
   "cell_type": "code",
   "execution_count": 22,
   "id": "9af22eb7-8fca-468e-9a9b-2874f5c63a0d",
   "metadata": {},
   "outputs": [
    {
     "name": "stdout",
     "output_type": "stream",
     "text": [
      "set()\n"
     ]
    }
   ],
   "source": [
    "# clear removes all the elements from the sets \n",
    "s1 = {1,2,3,4,5}\n",
    "s1.clear()\n",
    "print(s1)"
   ]
  },
  {
   "cell_type": "code",
   "execution_count": null,
   "id": "e0b18266-4bcc-4dd9-bb28-ef1eee1d84d0",
   "metadata": {},
   "outputs": [],
   "source": []
  }
 ],
 "metadata": {
  "kernelspec": {
   "display_name": "Python 3 (ipykernel)",
   "language": "python",
   "name": "python3"
  },
  "language_info": {
   "codemirror_mode": {
    "name": "ipython",
    "version": 3
   },
   "file_extension": ".py",
   "mimetype": "text/x-python",
   "name": "python",
   "nbconvert_exporter": "python",
   "pygments_lexer": "ipython3",
   "version": "3.12.2"
  }
 },
 "nbformat": 4,
 "nbformat_minor": 5
}
